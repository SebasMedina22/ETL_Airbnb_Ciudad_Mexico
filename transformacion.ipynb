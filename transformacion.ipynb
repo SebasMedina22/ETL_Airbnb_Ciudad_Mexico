{
 "cells": [
  {
   "cell_type": "markdown",
   "id": "dd979976-e846-4f9e-a527-0949c76f7a5b",
   "metadata": {},
   "source": [
    "# Procesos ETL\n",
    "## Transformación"
   ]
  },
  {
   "cell_type": "markdown",
   "id": "366f3bbe-bd65-4359-9406-c65b5f68737b",
   "metadata": {},
   "source": [
    "### Paso 1.\n",
    "Importar Librerias"
   ]
  },
  {
   "cell_type": "code",
   "execution_count": 62,
   "id": "3a599ffa-92da-41db-9250-41d6e7f909a2",
   "metadata": {},
   "outputs": [],
   "source": [
    "import pandas as pd\n",
    "import matplotlib.pyplot as plt\n",
    "import seaborn as sns\n",
    "import plotly.express as px\n",
    "import plotly.graph_objects as go\n",
    "import os\n",
    "from extraccion import Extraccion as extra"
   ]
  },
  {
   "cell_type": "markdown",
   "id": "20d78a07-0b0b-4d4f-aec8-98dd1afaacb9",
   "metadata": {},
   "source": [
    "## Paso 2.\n",
    "Rutas de los insumos"
   ]
  },
  {
   "cell_type": "code",
   "execution_count": 63,
   "id": "fb7517e8-9fba-4d0f-91a2-3fb3ff49ddb0",
   "metadata": {},
   "outputs": [],
   "source": [
    "extraccion = extra()\n",
    "\n",
    "uri = \"mongodb://localhost:27017/\"\n",
    "database = \"bi_mx\"\n",
    "df_listings = extraccion.extraer_mongo_df(uri, database, \"listings\")\n",
    "df_reviews = extraccion.extraer_mongo_df(uri, database, \"reviews\")\n",
    "# df_calendar = extraccion.extraer_mongo_df(uri, database, \"calendar\")"
   ]
  },
  {
   "cell_type": "markdown",
   "id": "a068f787-d1e1-4931-ada4-c3f4ddea1e44",
   "metadata": {},
   "source": [
    "## Exploración"
   ]
  },
  {
   "cell_type": "markdown",
   "id": "0399335b-7f66-4d78-8268-80789caef20e",
   "metadata": {},
   "source": [
    "## Previsualización de los datos"
   ]
  },
  {
   "cell_type": "code",
   "execution_count": 64,
   "id": "44161e04-b046-44a9-bf35-0dbf4e5495de",
   "metadata": {},
   "outputs": [
    {
     "name": "stderr",
     "output_type": "stream",
     "text": [
      "2025-10-15 11:30:30,945 - INFO - Mostrando las primeras filas del DataFrame 'listings'...\n"
     ]
    },
    {
     "name": "stdout",
     "output_type": "stream",
     "text": [
      "                        _id     id                         listing_url  \\\n",
      "0  68b24d712beebdf186a967c0  35797  https://www.airbnb.com/rooms/35797   \n",
      "1  68b24d712beebdf186a967c1  44616  https://www.airbnb.com/rooms/44616   \n",
      "2  68b24d712beebdf186a967c2  56074  https://www.airbnb.com/rooms/56074   \n",
      "3  68b24d712beebdf186a967c3  67703  https://www.airbnb.com/rooms/67703   \n",
      "4  68b24d712beebdf186a967c4  70644  https://www.airbnb.com/rooms/70644   \n",
      "\n",
      "        scrape_id last_scraped           source  \\\n",
      "0  20250319150644   2025-03-21      city scrape   \n",
      "1  20250319150644   2025-03-20  previous scrape   \n",
      "2  20250319150644   2025-03-20      city scrape   \n",
      "3  20250319150644   2025-03-20  previous scrape   \n",
      "4  20250319150644   2025-03-22      city scrape   \n",
      "\n",
      "                                               name  \\\n",
      "0                                       Villa Dante   \n",
      "1                                      Condesa Haus   \n",
      "2              Great space in historical San Rafael   \n",
      "3                 2 bedroom apt. deco bldg, Condesa   \n",
      "4  Beautiful light Studio Coyoacan- full equipped !   \n",
      "\n",
      "                                         description  \\\n",
      "0  Dentro de Villa un estudio de arte con futon, ...   \n",
      "1  A new concept of hosting in mexico through a b...   \n",
      "2  This great apartment is located in one of the ...   \n",
      "3  Comfortably furnished, sunny, 2 bedroom apt., ...   \n",
      "4  COYOACAN designer studio quiet & safe! well eq...   \n",
      "\n",
      "                               neighborhood_overview  \\\n",
      "0  Santa Fe Shopping Mall, Interlomas Park and th...   \n",
      "1                                                NaN   \n",
      "2  Very traditional neighborhood with all service...   \n",
      "3                                                NaN   \n",
      "4  Coyoacan is a beautiful neighborhood famous fo...   \n",
      "\n",
      "                                         picture_url  ...  first_review  \\\n",
      "0  https://a0.muscache.com/pictures/f395ab78-1185...  ...           NaT   \n",
      "1  https://a0.muscache.com/pictures/251410/ec75fe...  ...    2011-11-09   \n",
      "2  https://a0.muscache.com/pictures/3005118/60dac...  ...    2011-04-02   \n",
      "3  https://a0.muscache.com/pictures/3281720/6f078...  ...    2011-11-17   \n",
      "4  https://a0.muscache.com/pictures/f397d2da-d045...  ...    2012-02-14   \n",
      "\n",
      "  last_review review_scores_rating review_scores_accuracy  \\\n",
      "0         NaT                  NaN                    NaN   \n",
      "1  2025-01-01                 4.59                   4.56   \n",
      "2  2025-02-27                 4.87                   4.95   \n",
      "3  2024-10-30                 4.90                   4.82   \n",
      "4  2024-12-28                 4.92                   4.91   \n",
      "\n",
      "  review_scores_cleanliness review_scores_checkin review_scores_communication  \\\n",
      "0                       NaN                   NaN                         NaN   \n",
      "1                      4.70                  4.87                        4.78   \n",
      "2                      4.88                  4.98                        4.94   \n",
      "3                      4.76                  4.94                        4.92   \n",
      "4                      4.96                  4.96                        4.98   \n",
      "\n",
      "  review_scores_location review_scores_value reviews_per_month  \n",
      "0                    NaN                 NaN               NaN  \n",
      "1                   4.98                4.47              0.40  \n",
      "2                   4.76                4.79              0.49  \n",
      "3                   4.98                4.92              0.31  \n",
      "4                   4.96                4.92              0.83  \n",
      "\n",
      "[5 rows x 77 columns]\n"
     ]
    }
   ],
   "source": [
    "import logging\n",
    "\n",
    "# Configuración básica del log\n",
    "logging.basicConfig(\n",
    "    level=logging.INFO,  # Nivel INFO para mensajes generales\n",
    "    format='%(asctime)s - %(levelname)s - %(message)s'\n",
    ")\n",
    "\n",
    "logging.info(\"Mostrando las primeras filas del DataFrame 'listings'...\")\n",
    "print(df_listings.head())  # Muestra las primeras 5 filas del DataFrame de anuncios"
   ]
  },
  {
   "cell_type": "code",
   "execution_count": 65,
   "id": "c6622f14",
   "metadata": {},
   "outputs": [
    {
     "name": "stderr",
     "output_type": "stream",
     "text": [
      "2025-10-15 11:30:35,132 - INFO - Mostrando las primeras filas del DataFrame 'reviews'...\n"
     ]
    },
    {
     "name": "stdout",
     "output_type": "stream",
     "text": [
      "                        _id  listing_id        id       date  reviewer_id  \\\n",
      "0  68ef9f9dee4ad261006e7543    10257549  59265221 2016-01-08     31043833   \n",
      "1  68ef9f9dee4ad261006e7544    10257549  59352234 2016-01-09      7248934   \n",
      "2  68ef9f9dee4ad261006e7545    10257549  59456981 2016-01-10     52707457   \n",
      "3  68ef9f9dee4ad261006e7546    10257549  59661086 2016-01-13     52989229   \n",
      "4  68ef9f9dee4ad261006e7547    10257549  59806795 2016-01-15     51159033   \n",
      "\n",
      "  reviewer_name                                           comments  \n",
      "0       Karolis  The flat is very nice newly renovated. The hos...  \n",
      "1         James  Benito and his wife were great guests. Perfect...  \n",
      "2        Manuel  Fue algo express. No pude volar y contacté con...  \n",
      "3         Annie  This was a very comfortable and conveniently l...  \n",
      "4        Svenja  Nice place, really close to te airport - Nice ...  \n"
     ]
    }
   ],
   "source": [
    "logging.info(\"Mostrando las primeras filas del DataFrame 'reviews'...\")\n",
    "print(df_reviews.head())  # Muestra las primeras 5 filas del DataFrame de reseñas"
   ]
  },
  {
   "cell_type": "code",
   "execution_count": null,
   "id": "b36fb56c",
   "metadata": {},
   "outputs": [],
   "source": [
    "# logging.info(\"Mostrando las primeras filas del DataFrame 'calendar'...\")\n",
    "# print(df_calendar.head())  # Descomentarlo si quieres visualizar también el calendario"
   ]
  },
  {
   "cell_type": "code",
   "execution_count": 66,
   "id": "9681433a-cc60-436b-ac36-8627dd43c687",
   "metadata": {},
   "outputs": [
    {
     "name": "stderr",
     "output_type": "stream",
     "text": [
      "2025-10-15 11:30:37,120 - INFO - Obteniendo información del DataFrame 'listings'...\n"
     ]
    },
    {
     "name": "stdout",
     "output_type": "stream",
     "text": [
      "<class 'pandas.core.frame.DataFrame'>\n",
      "RangeIndex: 52468 entries, 0 to 52467\n",
      "Data columns (total 77 columns):\n",
      " #   Column                                        Non-Null Count  Dtype         \n",
      "---  ------                                        --------------  -----         \n",
      " 0   _id                                           52468 non-null  object        \n",
      " 1   id                                            52468 non-null  int64         \n",
      " 2   listing_url                                   52468 non-null  object        \n",
      " 3   scrape_id                                     52468 non-null  int64         \n",
      " 4   last_scraped                                  52468 non-null  datetime64[ns]\n",
      " 5   source                                        52468 non-null  object        \n",
      " 6   name                                          52468 non-null  object        \n",
      " 7   description                                   50933 non-null  object        \n",
      " 8   neighborhood_overview                         28361 non-null  object        \n",
      " 9   picture_url                                   52468 non-null  object        \n",
      " 10  host_id                                       52468 non-null  int64         \n",
      " 11  host_url                                      52468 non-null  object        \n",
      " 12  host_name                                     51606 non-null  object        \n",
      " 13  host_since                                    51549 non-null  datetime64[ns]\n",
      " 14  host_location                                 40751 non-null  object        \n",
      " 15  host_about                                    30775 non-null  object        \n",
      " 16  host_response_time                            51549 non-null  object        \n",
      " 17  host_response_rate                            51549 non-null  object        \n",
      " 18  host_acceptance_rate                          51549 non-null  object        \n",
      " 19  host_is_superhost                             49766 non-null  object        \n",
      " 20  host_thumbnail_url                            51549 non-null  object        \n",
      " 21  host_picture_url                              51549 non-null  object        \n",
      " 22  host_listings_count                           51549 non-null  float64       \n",
      " 23  host_total_listings_count                     51549 non-null  float64       \n",
      " 24  host_verifications                            52468 non-null  object        \n",
      " 25  host_has_profile_pic                          51549 non-null  object        \n",
      " 26  host_identity_verified                        51549 non-null  object        \n",
      " 27  neighbourhood                                 28361 non-null  object        \n",
      " 28  neighbourhood_cleansed                        52468 non-null  object        \n",
      " 29  latitude                                      52468 non-null  float64       \n",
      " 30  longitude                                     52468 non-null  float64       \n",
      " 31  property_type                                 52468 non-null  object        \n",
      " 32  room_type                                     52468 non-null  object        \n",
      " 33  accommodates                                  52468 non-null  int64         \n",
      " 34  bathrooms                                     45182 non-null  float64       \n",
      " 35  bathrooms_text                                52410 non-null  object        \n",
      " 36  bedrooms                                      50573 non-null  float64       \n",
      " 37  beds                                          45149 non-null  float64       \n",
      " 38  amenities                                     52468 non-null  object        \n",
      " 39  price                                         45195 non-null  object        \n",
      " 40  minimum_nights                                52468 non-null  int64         \n",
      " 41  maximum_nights                                52468 non-null  int64         \n",
      " 42  minimum_minimum_nights                        52448 non-null  float64       \n",
      " 43  maximum_minimum_nights                        52448 non-null  float64       \n",
      " 44  minimum_maximum_nights                        52448 non-null  float64       \n",
      " 45  maximum_maximum_nights                        52448 non-null  float64       \n",
      " 46  minimum_nights_avg_ntm                        52468 non-null  float64       \n",
      " 47  maximum_nights_avg_ntm                        52468 non-null  float64       \n",
      " 48  has_availability                              50477 non-null  object        \n",
      " 49  availability_30                               52468 non-null  int64         \n",
      " 50  availability_60                               52468 non-null  int64         \n",
      " 51  availability_90                               52468 non-null  int64         \n",
      " 52  availability_365                              52468 non-null  int64         \n",
      " 53  calendar_last_scraped                         52468 non-null  datetime64[ns]\n",
      " 54  number_of_reviews                             52468 non-null  int64         \n",
      " 55  number_of_reviews_ltm                         52468 non-null  int64         \n",
      " 56  number_of_reviews_l30d                        52468 non-null  int64         \n",
      " 57  availability_eoy                              52468 non-null  int64         \n",
      " 58  number_of_reviews_ly                          52468 non-null  int64         \n",
      " 59  estimated_occupancy_l365d                     52468 non-null  int64         \n",
      " 60  estimated_revenue_l365d                       45195 non-null  float64       \n",
      " 61  instant_bookable                              52468 non-null  bool          \n",
      " 62  calculated_host_listings_count                52468 non-null  int64         \n",
      " 63  calculated_host_listings_count_entire_homes   52468 non-null  int64         \n",
      " 64  calculated_host_listings_count_private_rooms  52468 non-null  int64         \n",
      " 65  calculated_host_listings_count_shared_rooms   52468 non-null  int64         \n",
      " 66  host_neighbourhood                            27445 non-null  object        \n",
      " 67  first_review                                  45834 non-null  datetime64[ns]\n",
      " 68  last_review                                   45834 non-null  datetime64[ns]\n",
      " 69  review_scores_rating                          45834 non-null  float64       \n",
      " 70  review_scores_accuracy                        45831 non-null  float64       \n",
      " 71  review_scores_cleanliness                     45831 non-null  float64       \n",
      " 72  review_scores_checkin                         45831 non-null  float64       \n",
      " 73  review_scores_communication                   45831 non-null  float64       \n",
      " 74  review_scores_location                        45831 non-null  float64       \n",
      " 75  review_scores_value                           45831 non-null  float64       \n",
      " 76  reviews_per_month                             45834 non-null  float64       \n",
      "dtypes: bool(1), datetime64[ns](5), float64(22), int64(20), object(29)\n",
      "memory usage: 30.5+ MB\n",
      "None\n"
     ]
    }
   ],
   "source": [
    "# Verificación de la estructura del DataFrame 'listings'\n",
    "logging.info(\"Obteniendo información del DataFrame 'listings'...\")\n",
    "print(df_listings.info())  # Muestra el número de filas, columnas, tipos de datos y valores nulo\n"
   ]
  },
  {
   "cell_type": "code",
   "execution_count": 36,
   "id": "11af924e",
   "metadata": {},
   "outputs": [
    {
     "name": "stderr",
     "output_type": "stream",
     "text": [
      "2025-10-15 10:27:59,987 - INFO - Obteniendo información del DataFrame 'reviews'...\n"
     ]
    },
    {
     "name": "stdout",
     "output_type": "stream",
     "text": [
      "<class 'pandas.core.frame.DataFrame'>\n",
      "RangeIndex: 1388226 entries, 0 to 1388225\n",
      "Data columns (total 7 columns):\n",
      " #   Column         Non-Null Count    Dtype         \n",
      "---  ------         --------------    -----         \n",
      " 0   _id            1388226 non-null  object        \n",
      " 1   listing_id     1388226 non-null  int64         \n",
      " 2   id             1388226 non-null  int64         \n",
      " 3   date           1388226 non-null  datetime64[ns]\n",
      " 4   reviewer_id    1388226 non-null  int64         \n",
      " 5   reviewer_name  1388218 non-null  object        \n",
      " 6   comments       1388226 non-null  object        \n",
      "dtypes: datetime64[ns](1), int64(3), object(3)\n",
      "memory usage: 74.1+ MB\n",
      "None\n"
     ]
    }
   ],
   "source": [
    "# Verificación de la estructura del DataFrame 'reviews'\n",
    "logging.info(\"Obteniendo información del DataFrame 'reviews'...\")\n",
    "print(df_reviews.info())  # Muestra detalles estructurales del DataFrame de reseñas"
   ]
  },
  {
   "cell_type": "code",
   "execution_count": null,
   "id": "5d7a7187",
   "metadata": {},
   "outputs": [],
   "source": [
    "# logging.info(\"Obteniendo información del DataFrame 'calendar'...\")\n",
    "# print(df_calendar.info())  # Muestra la estructura del DataFrame del calendario"
   ]
  },
  {
   "cell_type": "markdown",
   "id": "586716a2",
   "metadata": {},
   "source": [
    "# Detección y manejo de valores Nulos"
   ]
  },
  {
   "cell_type": "markdown",
   "id": "16117eb0-7a62-4811-9c7e-518078df17cf",
   "metadata": {},
   "source": [
    "## Valores nulos o faltantes por columna."
   ]
  },
  {
   "cell_type": "code",
   "execution_count": 67,
   "id": "ef344daa-59d0-4105-9ee8-b5c896ac648e",
   "metadata": {},
   "outputs": [
    {
     "name": "stderr",
     "output_type": "stream",
     "text": [
      "2025-10-15 11:35:01,709 - INFO - Calculando valores nulos en el DataFrame 'listings'...\n"
     ]
    },
    {
     "name": "stdout",
     "output_type": "stream",
     "text": [
      "_id                               0\n",
      "id                                0\n",
      "listing_url                       0\n",
      "scrape_id                         0\n",
      "last_scraped                      0\n",
      "                               ... \n",
      "review_scores_checkin          6637\n",
      "review_scores_communication    6637\n",
      "review_scores_location         6637\n",
      "review_scores_value            6637\n",
      "reviews_per_month              6634\n",
      "Length: 77, dtype: int64\n"
     ]
    }
   ],
   "source": [
    "# --- Análisis de valores nulos en cada DataFrame ---\n",
    "\n",
    "# Verificación de valores nulos en df_listings\n",
    "logging.info(\"Calculando valores nulos en el DataFrame 'listings'...\")\n",
    "print(df_listings.isnull().sum())  # Muestra la cantidad de valores nulos por columna"
   ]
  },
  {
   "cell_type": "code",
   "execution_count": 42,
   "id": "1ad7a7a8",
   "metadata": {},
   "outputs": [
    {
     "name": "stderr",
     "output_type": "stream",
     "text": [
      "2025-10-15 10:34:07,145 - INFO - Calculando valores nulos en el DataFrame 'reviews'...\n"
     ]
    },
    {
     "name": "stdout",
     "output_type": "stream",
     "text": [
      "_id              0\n",
      "listing_id       0\n",
      "id               0\n",
      "date             0\n",
      "reviewer_id      0\n",
      "reviewer_name    8\n",
      "comments         0\n",
      "dtype: int64\n"
     ]
    }
   ],
   "source": [
    "# Verificación de valores nulos en df_reviews\n",
    "logging.info(\"Calculando valores nulos en el DataFrame 'reviews'...\")\n",
    "print(df_reviews.isnull().sum())  # Muestra la cantidad de valores nulos por columna"
   ]
  },
  {
   "cell_type": "code",
   "execution_count": 43,
   "id": "f3d4b427",
   "metadata": {},
   "outputs": [],
   "source": [
    "# Verificación de valores nulos en df_calendar\n",
    "# logging.info(\"Calculando valores nulos en el DataFrame 'calendar'...\")\n",
    "# print(df_calendar.isnull().sum())  # Muestra la cantidad de valores nulos por columna"
   ]
  },
  {
   "cell_type": "code",
   "execution_count": 51,
   "id": "78060940-8262-4e38-aea1-464a741c74d8",
   "metadata": {},
   "outputs": [
    {
     "data": {
      "text/plain": [
       "_id                             0.000000\n",
       "id                              0.000000\n",
       "listing_url                     0.000000\n",
       "scrape_id                       0.000000\n",
       "last_scraped                    0.000000\n",
       "                                 ...    \n",
       "review_scores_checkin          12.649615\n",
       "review_scores_communication    12.649615\n",
       "review_scores_location         12.649615\n",
       "review_scores_value            12.649615\n",
       "reviews_per_month              12.643897\n",
       "Length: 77, dtype: float64"
      ]
     },
     "execution_count": 51,
     "metadata": {},
     "output_type": "execute_result"
    }
   ],
   "source": [
    "# Calcula el porcentaje de valores nulos por columna en el DataFrame 'df_listings'\n",
    "# .isnull() devuelve una matriz booleana (True si el valor es nulo)\n",
    "# .mean() calcula la proporción de valores nulos (True=1, False=0)\n",
    "# Multiplicar por 100 convierte esa proporción en porcentaje (%)\n",
    "df_listings.isnull().mean()*100"
   ]
  },
  {
   "cell_type": "code",
   "execution_count": 52,
   "id": "b0e97eef",
   "metadata": {},
   "outputs": [
    {
     "data": {
      "text/plain": [
       "_id              0.000000\n",
       "listing_id       0.000000\n",
       "id               0.000000\n",
       "date             0.000000\n",
       "reviewer_id      0.000000\n",
       "reviewer_name    0.000576\n",
       "comments         0.000000\n",
       "dtype: float64"
      ]
     },
     "execution_count": 52,
     "metadata": {},
     "output_type": "execute_result"
    }
   ],
   "source": [
    "df_reviews.isnull().mean()*100"
   ]
  },
  {
   "cell_type": "code",
   "execution_count": null,
   "id": "4e9e66ef",
   "metadata": {},
   "outputs": [],
   "source": [
    "# df_calendar.isnull().mean()*100"
   ]
  },
  {
   "cell_type": "markdown",
   "id": "ccfae9dc-f22c-4413-8680-e0bae0d29ed1",
   "metadata": {},
   "source": [
    "## Cantidad de valores nulos por columna"
   ]
  },
  {
   "cell_type": "code",
   "execution_count": 68,
   "id": "770a6259-2c94-44fa-afdf-a7dd762ab980",
   "metadata": {},
   "outputs": [
    {
     "data": {
      "text/plain": [
       "_id                               0\n",
       "id                                0\n",
       "listing_url                       0\n",
       "scrape_id                         0\n",
       "last_scraped                      0\n",
       "                               ... \n",
       "review_scores_checkin          6637\n",
       "review_scores_communication    6637\n",
       "review_scores_location         6637\n",
       "review_scores_value            6637\n",
       "reviews_per_month              6634\n",
       "Length: 77, dtype: int64"
      ]
     },
     "execution_count": 68,
     "metadata": {},
     "output_type": "execute_result"
    }
   ],
   "source": [
    "df_listings.isna().sum()"
   ]
  },
  {
   "cell_type": "code",
   "execution_count": 69,
   "id": "9942be37",
   "metadata": {},
   "outputs": [
    {
     "data": {
      "text/plain": [
       "_id              0\n",
       "listing_id       0\n",
       "id               0\n",
       "date             0\n",
       "reviewer_id      0\n",
       "reviewer_name    8\n",
       "comments         0\n",
       "dtype: int64"
      ]
     },
     "execution_count": 69,
     "metadata": {},
     "output_type": "execute_result"
    }
   ],
   "source": [
    "df_reviews.isna().sum()"
   ]
  },
  {
   "cell_type": "code",
   "execution_count": null,
   "id": "d6e4c96f",
   "metadata": {},
   "outputs": [],
   "source": [
    "# df_calendar.isna().sum()"
   ]
  },
  {
   "cell_type": "markdown",
   "id": "260e36ea-7628-4bb7-9920-c89ca18242a3",
   "metadata": {},
   "source": [
    "## Visualización gráfica de valores nulos"
   ]
  },
  {
   "cell_type": "code",
   "execution_count": 87,
   "id": "d0c2e1e8-a0a6-4db9-b271-5de15cc3b8b9",
   "metadata": {},
   "outputs": [
    {
     "data": {
      "image/png": "[encoded data removed]",
      "text/plain": [
       "<Figure size 1000x500 with 1 Axes>"
      ]
     },
     "metadata": {},
     "output_type": "display_data"
    }
   ],
   "source": [
    "# Conteo de valores nulos - listings\n",
    "na_count = df_listings.isna().sum()\n",
    "\n",
    "plt.figure(figsize=(10, 5))\n",
    "na_count[na_count > 0].sort_values(ascending=False).plot(kind='bar', color='salmon')\n",
    "plt.title('Cantidad de valores nulos por columna - listings', fontsize=14)\n",
    "plt.xlabel('Columnas')\n",
    "plt.ylabel('Número de valores nulos')\n",
    "plt.xticks(rotation=45, ha='right')\n",
    "plt.tight_layout()\n",
    "plt.show()"
   ]
  },
  {
   "cell_type": "code",
   "execution_count": 80,
   "id": "36694afd",
   "metadata": {},
   "outputs": [
    {
     "data": {
      "image/png": "[encoded data removed]",
      "text/plain": [
       "<Figure size 1000x500 with 1 Axes>"
      ]
     },
     "metadata": {},
     "output_type": "display_data"
    }
   ],
   "source": [
    "# Conteo de valores nulos - reviews\n",
    "na_count = df_reviews.isna().sum()\n",
    "\n",
    "plt.figure(figsize=(10, 5))\n",
    "na_count[na_count > 0].sort_values(ascending=False).plot(kind='bar', color='salmon')\n",
    "plt.title('Cantidad de valores nulos por columna - reviews', fontsize=14)\n",
    "plt.xlabel('Columnas')\n",
    "plt.ylabel('Número de valores nulos')\n",
    "plt.xticks(rotation=45, ha='right')\n",
    "plt.tight_layout()\n",
    "plt.show()"
   ]
  },
  {
   "cell_type": "code",
   "execution_count": null,
   "id": "24d4eabb",
   "metadata": {},
   "outputs": [],
   "source": [
    "# Conteo de valores nulos\n",
    "# na_count = df_calendar.isna().sum()\n",
    "\n",
    "# plt.figure(figsize=(10, 5))\n",
    "# na_count[na_count > 0].sort_values(ascending=False).plot(kind='bar', color='salmon')\n",
    "# plt.title('Cantidad de valores nulos por columna', fontsize=14)\n",
    "# plt.xlabel('Columnas')\n",
    "# plt.ylabel('Número de valores nulos')\n",
    "# plt.xticks(rotation=45, ha='right')\n",
    "# plt.tight_layout()\n",
    "# plt.show()"
   ]
  },
  {
   "cell_type": "markdown",
   "id": "43d2daaa-b92b-4940-949b-06fef5f08f5f",
   "metadata": {},
   "source": [
    "## Eliminación de filas con valores nulos"
   ]
  },
  {
   "cell_type": "code",
   "execution_count": 76,
   "id": "ef6c2b5d-e8d0-4c61-b26a-bc9132800f9e",
   "metadata": {},
   "outputs": [
    {
     "data": {
      "text/plain": [
       "_id                            0\n",
       "id                             0\n",
       "listing_url                    0\n",
       "scrape_id                      0\n",
       "last_scraped                   0\n",
       "                              ..\n",
       "review_scores_checkin          0\n",
       "review_scores_communication    0\n",
       "review_scores_location         0\n",
       "review_scores_value            0\n",
       "reviews_per_month              0\n",
       "Length: 77, dtype: int64"
      ]
     },
     "execution_count": 76,
     "metadata": {},
     "output_type": "execute_result"
    }
   ],
   "source": [
    "df_listings.isna().sum()"
   ]
  },
  {
   "cell_type": "code",
   "execution_count": 85,
   "id": "41fdd32b-ec91-451e-9541-0f7eb97c68ca",
   "metadata": {},
   "outputs": [],
   "source": [
    "df_listings = df_listings.dropna(subset=['review_scores_checkin'])\n",
    "df_listings = df_listings.dropna(subset=['picture_url'])\n",
    "df_listings = df_listings.dropna(subset=['host_about'])\n",
    "df_listings = df_listings.dropna(subset=['price'])"
   ]
  },
  {
   "cell_type": "code",
   "execution_count": null,
   "id": "643fedf4-e64e-4302-afc0-0a684fe8f190",
   "metadata": {},
   "outputs": [
    {
     "data": {
      "image/png": "[encoded data removed]",
      "text/plain": [
       "<Figure size 640x480 with 1 Axes>"
      ]
     },
     "metadata": {},
     "output_type": "display_data"
    }
   ],
   "source": [
    "sns.heatmap(df_listings.isna(), cbar=False, cmap='viridis')\n",
    "plt.title('Valores nulos - listings')\n",
    "plt.show()"
   ]
  },
  {
   "cell_type": "code",
   "execution_count": 89,
   "id": "79e2f727",
   "metadata": {},
   "outputs": [
    {
     "data": {
      "text/plain": [
       "_id              0\n",
       "listing_id       0\n",
       "id               0\n",
       "date             0\n",
       "reviewer_id      0\n",
       "reviewer_name    8\n",
       "comments         0\n",
       "dtype: int64"
      ]
     },
     "execution_count": 89,
     "metadata": {},
     "output_type": "execute_result"
    }
   ],
   "source": [
    "df_reviews.isna().sum()"
   ]
  },
  {
   "cell_type": "code",
   "execution_count": 91,
   "id": "e8e3468f",
   "metadata": {},
   "outputs": [],
   "source": [
    "df_reviews = df_reviews.dropna(subset=['reviewer_name'])"
   ]
  },
  {
   "cell_type": "code",
   "execution_count": 93,
   "id": "39cd8225",
   "metadata": {},
   "outputs": [
    {
     "data": {
      "image/png": "[encoded data removed]",
      "text/plain": [
       "<Figure size 640x480 with 1 Axes>"
      ]
     },
     "metadata": {},
     "output_type": "display_data"
    }
   ],
   "source": [
    "sns.heatmap(df_reviews.isna(), cbar=False, cmap='viridis')\n",
    "plt.title('Valores nulos - reviews')\n",
    "plt.show()"
   ]
  },
  {
   "cell_type": "code",
   "execution_count": null,
   "id": "97d18ff5",
   "metadata": {},
   "outputs": [],
   "source": [
    "# df_calendar.isna().sum()"
   ]
  },
  {
   "cell_type": "code",
   "execution_count": null,
   "id": "0bef6195",
   "metadata": {},
   "outputs": [],
   "source": [
    "# df_calendar = df_calendar.dropna(subset=['reviewer_name'])"
   ]
  },
  {
   "cell_type": "code",
   "execution_count": null,
   "id": "34da2c28",
   "metadata": {},
   "outputs": [],
   "source": [
    "# sns.heatmap(df_calendar.isna(), cbar=False, cmap='viridis')\n",
    "# plt.title('Valores nulos - calendar')\n",
    "# plt.show()"
   ]
  },
  {
   "cell_type": "markdown",
   "id": "ea435f7b-43e2-4f02-bf12-0f2a88a35514",
   "metadata": {},
   "source": [
    "## Eliminación de filas o columnas con muchos valores nulos"
   ]
  },
  {
   "cell_type": "code",
   "execution_count": 39,
   "id": "0a527f02-448b-4990-88a8-174e0da688c4",
   "metadata": {},
   "outputs": [],
   "source": [
    "ts = 0.5\n",
    "df_meta_c = df_meta.dropna(thresh=int(ts * df_meta.shape[0]), axis=1)"
   ]
  },
  {
   "cell_type": "code",
   "execution_count": 40,
   "id": "7ba58e96-fe67-4a5f-a562-f6c390473b2e",
   "metadata": {},
   "outputs": [
    {
     "data": {
      "image/png": "[encoded data removed]",
      "text/plain": [
       "<Figure size 640x480 with 1 Axes>"
      ]
     },
     "metadata": {},
     "output_type": "display_data"
    }
   ],
   "source": [
    "sns.heatmap(df_meta_c.isna(), cbar=False, cmap='viridis')\n",
    "plt.title('Valores nulos')\n",
    "plt.show()"
   ]
  },
  {
   "cell_type": "markdown",
   "id": "27ee56ca-d236-4e16-bc5b-8680a71e49a0",
   "metadata": {},
   "source": [
    "### Imputación de valores faltantes en 'region' con 'Sin region'"
   ]
  },
  {
   "cell_type": "code",
   "execution_count": 41,
   "id": "58f08f24-4ba1-45aa-8fd5-f259f808ddc8",
   "metadata": {},
   "outputs": [],
   "source": [
    "df_meta_c.loc[:, 'Region'] = df_meta_c['Region'].fillna('Sin region')"
   ]
  },
  {
   "cell_type": "code",
   "execution_count": 42,
   "id": "d2819b45-c2de-4fdf-96ab-d843133ec77b",
   "metadata": {},
   "outputs": [
    {
     "data": {
      "image/png": "[encoded data removed]",
      "text/plain": [
       "<Figure size 640x480 with 1 Axes>"
      ]
     },
     "metadata": {},
     "output_type": "display_data"
    }
   ],
   "source": [
    "sns.heatmap(df_meta_c.isna(), cbar=False, cmap='viridis')\n",
    "plt.title('Valores nulos')\n",
    "plt.show()"
   ]
  },
  {
   "cell_type": "markdown",
   "id": "5e70a994",
   "metadata": {},
   "source": [
    "## Detección de valores atípicos (outliers)"
   ]
  },
  {
   "cell_type": "code",
   "execution_count": 94,
   "id": "6d3b98b3",
   "metadata": {},
   "outputs": [
    {
     "name": "stderr",
     "output_type": "stream",
     "text": [
      "<>:2: SyntaxWarning: invalid escape sequence '\\$'\n",
      "<>:2: SyntaxWarning: invalid escape sequence '\\$'\n",
      "C:\\Users\\DELL\\AppData\\Local\\Temp\\ipykernel_28156\\1874021406.py:2: SyntaxWarning: invalid escape sequence '\\$'\n",
      "  df_listings['price'] = df_listings['price'].replace('[\\$,]', '', regex=True).replace('', '0').astype(float)\n"
     ]
    },
    {
     "data": {
      "image/png": "[encoded data removed]",
      "text/plain": [
       "<Figure size 640x480 with 1 Axes>"
      ]
     },
     "metadata": {},
     "output_type": "display_data"
    }
   ],
   "source": [
    "# Elimina el símbolo $ y las comas, y convierte a float\n",
    "df_listings['price'] = df_listings['price'].replace('[\\$,]', '', regex=True).replace('', '0').astype(float)\n",
    "df_listings.boxplot(column='price')\n",
    "plt.show()"
   ]
  },
  {
   "cell_type": "markdown",
   "id": "485a95d6-92cc-4dbc-b62c-d4ce6ff26f4b",
   "metadata": {},
   "source": [
    "# Eliminar duplicados"
   ]
  },
  {
   "cell_type": "markdown",
   "id": "e2ff926d-cbd8-4a9b-8cbe-c200b6ca3f0e",
   "metadata": {},
   "source": [
    "## Identificar Duplicados"
   ]
  },
  {
   "cell_type": "code",
   "execution_count": 43,
   "id": "b94f5279-6172-47cc-bac4-dac1635b3264",
   "metadata": {},
   "outputs": [
    {
     "name": "stdout",
     "output_type": "stream",
     "text": [
      "Registros duplicados: 0\n"
     ]
    }
   ],
   "source": [
    "dupli_rows = df_popu_c[df_popu_c.duplicated()]\n",
    "print(f\"Registros duplicados: {dupli_rows.shape[0]}\")"
   ]
  },
  {
   "cell_type": "code",
   "execution_count": 44,
   "id": "475076da-c9c1-4120-9c45-78ded92b921a",
   "metadata": {},
   "outputs": [
    {
     "name": "stdout",
     "output_type": "stream",
     "text": [
      "Registros duplicados: 0\n"
     ]
    }
   ],
   "source": [
    "dupli_rows = df_meta_c[df_meta_c.duplicated()]\n",
    "print(f\"Registros duplicados: {dupli_rows.shape[0]}\")"
   ]
  },
  {
   "cell_type": "markdown",
   "id": "3aee13e0-6ea3-4ea1-92ef-1eefc6e1a38b",
   "metadata": {},
   "source": [
    "# Limpiar nombres de columnas"
   ]
  },
  {
   "cell_type": "markdown",
   "id": "c849e83e-8dcc-4123-b515-6e991931dda6",
   "metadata": {},
   "source": [
    "### Ajuste de columnas de df_popu_c"
   ]
  },
  {
   "cell_type": "code",
   "execution_count": 45,
   "id": "a9bb96d3-5fdf-41a4-9f81-31f3f5d40cb8",
   "metadata": {},
   "outputs": [
    {
     "name": "stdout",
     "output_type": "stream",
     "text": [
      "Index(['Country Name', 'Country Code', 'Indicator Name', 'Indicator Code',\n",
      "       'year', 'total'],\n",
      "      dtype='object')\n"
     ]
    }
   ],
   "source": [
    "print(df_popu_c.columns)"
   ]
  },
  {
   "cell_type": "code",
   "execution_count": 46,
   "id": "fd9b34ae-226d-4122-bc6c-4b9678603dcd",
   "metadata": {},
   "outputs": [],
   "source": [
    "df_popu_c.columns = ['country_name', 'country_code', 'indicator_name', 'indicator_code',\n",
    "       'year', 'population']"
   ]
  },
  {
   "cell_type": "code",
   "execution_count": 47,
   "id": "d2506136-4acd-42ad-9dca-45620d9c0fbe",
   "metadata": {},
   "outputs": [
    {
     "name": "stdout",
     "output_type": "stream",
     "text": [
      "Index(['country_name', 'country_code', 'indicator_name', 'indicator_code',\n",
      "       'year', 'population'],\n",
      "      dtype='object')\n"
     ]
    }
   ],
   "source": [
    "print(df_popu_c.columns)"
   ]
  },
  {
   "cell_type": "markdown",
   "id": "d27f3ede-0964-41c2-8ec2-b341b5559db9",
   "metadata": {},
   "source": [
    "### Ajuste de columnas de df_meta_c"
   ]
  },
  {
   "cell_type": "code",
   "execution_count": 48,
   "id": "3602d965-bc37-49a3-a875-94ed58346be6",
   "metadata": {},
   "outputs": [
    {
     "name": "stdout",
     "output_type": "stream",
     "text": [
      "Index(['Country Name', 'Country Code', 'Region', 'Income_Group'], dtype='object')\n"
     ]
    }
   ],
   "source": [
    "print(df_meta_c.columns)"
   ]
  },
  {
   "cell_type": "code",
   "execution_count": 49,
   "id": "57cd3a38-f036-424d-a7b3-64e4d34f71b6",
   "metadata": {},
   "outputs": [],
   "source": [
    "df_meta_c.columns = ['country_name', 'country_code', 'region', 'income_group']"
   ]
  },
  {
   "cell_type": "code",
   "execution_count": 50,
   "id": "9f9254b3-b1b8-47e9-9736-a99701704d9d",
   "metadata": {},
   "outputs": [
    {
     "name": "stdout",
     "output_type": "stream",
     "text": [
      "Index(['country_name', 'country_code', 'region', 'income_group'], dtype='object')\n"
     ]
    }
   ],
   "source": [
    "print(df_meta_c.columns)"
   ]
  },
  {
   "cell_type": "markdown",
   "id": "40888c60-27de-46c5-8c97-efb25c1add6b",
   "metadata": {},
   "source": [
    "### Filtrar Columnas Necesarias"
   ]
  },
  {
   "cell_type": "code",
   "execution_count": 51,
   "id": "78124aad-bcc8-4047-a994-1c8ef4121110",
   "metadata": {},
   "outputs": [],
   "source": [
    "df_popu_c = df_popu_c[['country_name', 'country_code',\n",
    "       'year', 'population']]"
   ]
  },
  {
   "cell_type": "code",
   "execution_count": 52,
   "id": "fe5438c5-53d6-4975-9dfc-3ca7c4320bf3",
   "metadata": {},
   "outputs": [
    {
     "data": {
      "text/html": [
       "<div>\n",
       "<style scoped>\n",
       "    .dataframe tbody tr th:only-of-type {\n",
       "        vertical-align: middle;\n",
       "    }\n",
       "\n",
       "    .dataframe tbody tr th {\n",
       "        vertical-align: top;\n",
       "    }\n",
       "\n",
       "    .dataframe thead th {\n",
       "        text-align: right;\n",
       "    }\n",
       "</style>\n",
       "<table border=\"1\" class=\"dataframe\">\n",
       "  <thead>\n",
       "    <tr style=\"text-align: right;\">\n",
       "      <th></th>\n",
       "      <th>country_name</th>\n",
       "      <th>country_code</th>\n",
       "      <th>year</th>\n",
       "      <th>population</th>\n",
       "    </tr>\n",
       "  </thead>\n",
       "  <tbody>\n",
       "    <tr>\n",
       "      <th>0</th>\n",
       "      <td>Aruba</td>\n",
       "      <td>ABW</td>\n",
       "      <td>1960</td>\n",
       "      <td>54608.0</td>\n",
       "    </tr>\n",
       "    <tr>\n",
       "      <th>1</th>\n",
       "      <td>NaN</td>\n",
       "      <td>AFE</td>\n",
       "      <td>1960</td>\n",
       "      <td>130692579.0</td>\n",
       "    </tr>\n",
       "    <tr>\n",
       "      <th>2</th>\n",
       "      <td>Afganistán</td>\n",
       "      <td>AFG</td>\n",
       "      <td>1960</td>\n",
       "      <td>8622466.0</td>\n",
       "    </tr>\n",
       "    <tr>\n",
       "      <th>3</th>\n",
       "      <td>NaN</td>\n",
       "      <td>AFW</td>\n",
       "      <td>1960</td>\n",
       "      <td>97256290.0</td>\n",
       "    </tr>\n",
       "    <tr>\n",
       "      <th>4</th>\n",
       "      <td>Angola</td>\n",
       "      <td>AGO</td>\n",
       "      <td>1960</td>\n",
       "      <td>5357195.0</td>\n",
       "    </tr>\n",
       "    <tr>\n",
       "      <th>...</th>\n",
       "      <td>...</td>\n",
       "      <td>...</td>\n",
       "      <td>...</td>\n",
       "      <td>...</td>\n",
       "    </tr>\n",
       "    <tr>\n",
       "      <th>16487</th>\n",
       "      <td>Kosovo</td>\n",
       "      <td>XKX</td>\n",
       "      <td>2021</td>\n",
       "      <td>1786038.0</td>\n",
       "    </tr>\n",
       "    <tr>\n",
       "      <th>16488</th>\n",
       "      <td>Yemen, Rep. del</td>\n",
       "      <td>YEM</td>\n",
       "      <td>2021</td>\n",
       "      <td>32981641.0</td>\n",
       "    </tr>\n",
       "    <tr>\n",
       "      <th>16489</th>\n",
       "      <td>Sudáfrica</td>\n",
       "      <td>ZAF</td>\n",
       "      <td>2021</td>\n",
       "      <td>59392255.0</td>\n",
       "    </tr>\n",
       "    <tr>\n",
       "      <th>16490</th>\n",
       "      <td>Zambia</td>\n",
       "      <td>ZMB</td>\n",
       "      <td>2021</td>\n",
       "      <td>19473125.0</td>\n",
       "    </tr>\n",
       "    <tr>\n",
       "      <th>16491</th>\n",
       "      <td>Zimbabwe</td>\n",
       "      <td>ZWE</td>\n",
       "      <td>2021</td>\n",
       "      <td>15993524.0</td>\n",
       "    </tr>\n",
       "  </tbody>\n",
       "</table>\n",
       "<p>16400 rows × 4 columns</p>\n",
       "</div>"
      ],
      "text/plain": [
       "          country_name country_code  year   population\n",
       "0                Aruba          ABW  1960      54608.0\n",
       "1                  NaN          AFE  1960  130692579.0\n",
       "2           Afganistán          AFG  1960    8622466.0\n",
       "3                  NaN          AFW  1960   97256290.0\n",
       "4               Angola          AGO  1960    5357195.0\n",
       "...                ...          ...   ...          ...\n",
       "16487           Kosovo          XKX  2021    1786038.0\n",
       "16488  Yemen, Rep. del          YEM  2021   32981641.0\n",
       "16489        Sudáfrica          ZAF  2021   59392255.0\n",
       "16490           Zambia          ZMB  2021   19473125.0\n",
       "16491         Zimbabwe          ZWE  2021   15993524.0\n",
       "\n",
       "[16400 rows x 4 columns]"
      ]
     },
     "execution_count": 52,
     "metadata": {},
     "output_type": "execute_result"
    }
   ],
   "source": [
    "df_popu_c"
   ]
  },
  {
   "cell_type": "markdown",
   "id": "6d1c382b-fb02-4bfc-8347-f69ab9372e91",
   "metadata": {},
   "source": [
    "# Enriquecimiento de los datos (join de los dataframes)"
   ]
  },
  {
   "cell_type": "markdown",
   "id": "aa0aadf5-2abb-4c4d-a02d-cc154b022cae",
   "metadata": {},
   "source": [
    "## Merge entre df_popu_c y df_meta_c"
   ]
  },
  {
   "cell_type": "code",
   "execution_count": 53,
   "id": "e796a33f-2d80-4892-a8b8-69bdadf56b4f",
   "metadata": {},
   "outputs": [
    {
     "name": "stdout",
     "output_type": "stream",
     "text": [
      "Index(['country_name', 'country_code', 'year', 'population'], dtype='object')\n",
      "Index(['country_name', 'country_code', 'region', 'income_group'], dtype='object')\n"
     ]
    }
   ],
   "source": [
    "print(df_popu_c.columns)\n",
    "print(df_meta_c.columns)"
   ]
  },
  {
   "cell_type": "code",
   "execution_count": 54,
   "id": "232ef141-3492-4583-90bf-fc603e5de4b9",
   "metadata": {},
   "outputs": [],
   "source": [
    "df_w_popu = df_popu_c.merge(\n",
    "    df_meta_c,\n",
    "    left_on = 'country_code',\n",
    "    right_on = 'country_code',\n",
    "    how='inner'\n",
    ")"
   ]
  },
  {
   "cell_type": "code",
   "execution_count": 55,
   "id": "7d13f5c0-7086-4ab4-be10-04a75cbadd7c",
   "metadata": {},
   "outputs": [
    {
     "data": {
      "text/html": [
       "<div>\n",
       "<style scoped>\n",
       "    .dataframe tbody tr th:only-of-type {\n",
       "        vertical-align: middle;\n",
       "    }\n",
       "\n",
       "    .dataframe tbody tr th {\n",
       "        vertical-align: top;\n",
       "    }\n",
       "\n",
       "    .dataframe thead th {\n",
       "        text-align: right;\n",
       "    }\n",
       "</style>\n",
       "<table border=\"1\" class=\"dataframe\">\n",
       "  <thead>\n",
       "    <tr style=\"text-align: right;\">\n",
       "      <th></th>\n",
       "      <th>country_name_x</th>\n",
       "      <th>country_code</th>\n",
       "      <th>year</th>\n",
       "      <th>population</th>\n",
       "      <th>country_name_y</th>\n",
       "      <th>region</th>\n",
       "      <th>income_group</th>\n",
       "    </tr>\n",
       "  </thead>\n",
       "  <tbody>\n",
       "    <tr>\n",
       "      <th>0</th>\n",
       "      <td>Aruba</td>\n",
       "      <td>ABW</td>\n",
       "      <td>1960</td>\n",
       "      <td>54608.0</td>\n",
       "      <td>Aruba</td>\n",
       "      <td>Sin region</td>\n",
       "      <td>Ingreso alto</td>\n",
       "    </tr>\n",
       "    <tr>\n",
       "      <th>1</th>\n",
       "      <td>NaN</td>\n",
       "      <td>AFE</td>\n",
       "      <td>1960</td>\n",
       "      <td>130692579.0</td>\n",
       "      <td>NaN</td>\n",
       "      <td>Sin region</td>\n",
       "      <td>Agregados</td>\n",
       "    </tr>\n",
       "    <tr>\n",
       "      <th>2</th>\n",
       "      <td>Afganistán</td>\n",
       "      <td>AFG</td>\n",
       "      <td>1960</td>\n",
       "      <td>8622466.0</td>\n",
       "      <td>Afganistán</td>\n",
       "      <td>Asia meridional</td>\n",
       "      <td>Países de ingreso bajo</td>\n",
       "    </tr>\n",
       "    <tr>\n",
       "      <th>3</th>\n",
       "      <td>NaN</td>\n",
       "      <td>AFW</td>\n",
       "      <td>1960</td>\n",
       "      <td>97256290.0</td>\n",
       "      <td>NaN</td>\n",
       "      <td>Sin region</td>\n",
       "      <td>Agregados</td>\n",
       "    </tr>\n",
       "    <tr>\n",
       "      <th>4</th>\n",
       "      <td>Angola</td>\n",
       "      <td>AGO</td>\n",
       "      <td>1960</td>\n",
       "      <td>5357195.0</td>\n",
       "      <td>Angola</td>\n",
       "      <td>África al sur del Sahara (excluido altos ingre...</td>\n",
       "      <td>Países de ingreso mediano bajo</td>\n",
       "    </tr>\n",
       "  </tbody>\n",
       "</table>\n",
       "</div>"
      ],
      "text/plain": [
       "  country_name_x country_code  year   population country_name_y  \\\n",
       "0          Aruba          ABW  1960      54608.0          Aruba   \n",
       "1            NaN          AFE  1960  130692579.0            NaN   \n",
       "2     Afganistán          AFG  1960    8622466.0     Afganistán   \n",
       "3            NaN          AFW  1960   97256290.0            NaN   \n",
       "4         Angola          AGO  1960    5357195.0         Angola   \n",
       "\n",
       "                                              region  \\\n",
       "0                                         Sin region   \n",
       "1                                         Sin region   \n",
       "2                                    Asia meridional   \n",
       "3                                         Sin region   \n",
       "4  África al sur del Sahara (excluido altos ingre...   \n",
       "\n",
       "                     income_group  \n",
       "0                    Ingreso alto  \n",
       "1                       Agregados  \n",
       "2          Países de ingreso bajo  \n",
       "3                       Agregados  \n",
       "4  Países de ingreso mediano bajo  "
      ]
     },
     "execution_count": 55,
     "metadata": {},
     "output_type": "execute_result"
    }
   ],
   "source": [
    "df_w_popu.head()"
   ]
  },
  {
   "cell_type": "markdown",
   "id": "ee4825cb-59a7-4231-afdd-09c64df4497f",
   "metadata": {},
   "source": [
    "## Filtrar Columnas Necesarias"
   ]
  },
  {
   "cell_type": "code",
   "execution_count": 56,
   "id": "b77675e6-894d-4422-a52c-ca61d47cd46b",
   "metadata": {},
   "outputs": [],
   "source": [
    "df_w_popu = df_w_popu[['country_name_x','country_code','region','income_group','year','population']] "
   ]
  },
  {
   "cell_type": "code",
   "execution_count": 57,
   "id": "a25f23c0-9a08-49de-a3da-8160a4f1c903",
   "metadata": {},
   "outputs": [
    {
     "data": {
      "text/html": [
       "<div>\n",
       "<style scoped>\n",
       "    .dataframe tbody tr th:only-of-type {\n",
       "        vertical-align: middle;\n",
       "    }\n",
       "\n",
       "    .dataframe tbody tr th {\n",
       "        vertical-align: top;\n",
       "    }\n",
       "\n",
       "    .dataframe thead th {\n",
       "        text-align: right;\n",
       "    }\n",
       "</style>\n",
       "<table border=\"1\" class=\"dataframe\">\n",
       "  <thead>\n",
       "    <tr style=\"text-align: right;\">\n",
       "      <th></th>\n",
       "      <th>country_name_x</th>\n",
       "      <th>country_code</th>\n",
       "      <th>region</th>\n",
       "      <th>income_group</th>\n",
       "      <th>year</th>\n",
       "      <th>population</th>\n",
       "    </tr>\n",
       "  </thead>\n",
       "  <tbody>\n",
       "    <tr>\n",
       "      <th>0</th>\n",
       "      <td>Aruba</td>\n",
       "      <td>ABW</td>\n",
       "      <td>Sin region</td>\n",
       "      <td>Ingreso alto</td>\n",
       "      <td>1960</td>\n",
       "      <td>54608.0</td>\n",
       "    </tr>\n",
       "    <tr>\n",
       "      <th>1</th>\n",
       "      <td>NaN</td>\n",
       "      <td>AFE</td>\n",
       "      <td>Sin region</td>\n",
       "      <td>Agregados</td>\n",
       "      <td>1960</td>\n",
       "      <td>130692579.0</td>\n",
       "    </tr>\n",
       "    <tr>\n",
       "      <th>2</th>\n",
       "      <td>Afganistán</td>\n",
       "      <td>AFG</td>\n",
       "      <td>Asia meridional</td>\n",
       "      <td>Países de ingreso bajo</td>\n",
       "      <td>1960</td>\n",
       "      <td>8622466.0</td>\n",
       "    </tr>\n",
       "    <tr>\n",
       "      <th>3</th>\n",
       "      <td>NaN</td>\n",
       "      <td>AFW</td>\n",
       "      <td>Sin region</td>\n",
       "      <td>Agregados</td>\n",
       "      <td>1960</td>\n",
       "      <td>97256290.0</td>\n",
       "    </tr>\n",
       "    <tr>\n",
       "      <th>4</th>\n",
       "      <td>Angola</td>\n",
       "      <td>AGO</td>\n",
       "      <td>África al sur del Sahara (excluido altos ingre...</td>\n",
       "      <td>Países de ingreso mediano bajo</td>\n",
       "      <td>1960</td>\n",
       "      <td>5357195.0</td>\n",
       "    </tr>\n",
       "  </tbody>\n",
       "</table>\n",
       "</div>"
      ],
      "text/plain": [
       "  country_name_x country_code  \\\n",
       "0          Aruba          ABW   \n",
       "1            NaN          AFE   \n",
       "2     Afganistán          AFG   \n",
       "3            NaN          AFW   \n",
       "4         Angola          AGO   \n",
       "\n",
       "                                              region  \\\n",
       "0                                         Sin region   \n",
       "1                                         Sin region   \n",
       "2                                    Asia meridional   \n",
       "3                                         Sin region   \n",
       "4  África al sur del Sahara (excluido altos ingre...   \n",
       "\n",
       "                     income_group  year   population  \n",
       "0                    Ingreso alto  1960      54608.0  \n",
       "1                       Agregados  1960  130692579.0  \n",
       "2          Países de ingreso bajo  1960    8622466.0  \n",
       "3                       Agregados  1960   97256290.0  \n",
       "4  Países de ingreso mediano bajo  1960    5357195.0  "
      ]
     },
     "execution_count": 57,
     "metadata": {},
     "output_type": "execute_result"
    }
   ],
   "source": [
    "df_w_popu.head()"
   ]
  },
  {
   "cell_type": "code",
   "execution_count": 58,
   "id": "e63acc45-3ced-4031-af03-9f4afedf36c7",
   "metadata": {},
   "outputs": [],
   "source": [
    "df_w_popu.columns = ['country_name','country_code','region','income_group','year','population']"
   ]
  },
  {
   "cell_type": "markdown",
   "id": "7283cc61-c42b-409f-aa06-5f3aad615b0f",
   "metadata": {},
   "source": [
    "## Ordenar el dataframe por 'country_code' y 'year'"
   ]
  },
  {
   "cell_type": "code",
   "execution_count": 59,
   "id": "eda230bf-e5a5-49f2-9277-acdc4c001ce4",
   "metadata": {},
   "outputs": [],
   "source": [
    "df_w_popu = df_w_popu.sort_values(['country_code','year'],ascending=True)"
   ]
  },
  {
   "cell_type": "code",
   "execution_count": 60,
   "id": "590e39ce-9f58-45e7-b7d2-3e8403e3fba0",
   "metadata": {},
   "outputs": [
    {
     "data": {
      "text/html": [
       "<div>\n",
       "<style scoped>\n",
       "    .dataframe tbody tr th:only-of-type {\n",
       "        vertical-align: middle;\n",
       "    }\n",
       "\n",
       "    .dataframe tbody tr th {\n",
       "        vertical-align: top;\n",
       "    }\n",
       "\n",
       "    .dataframe thead th {\n",
       "        text-align: right;\n",
       "    }\n",
       "</style>\n",
       "<table border=\"1\" class=\"dataframe\">\n",
       "  <thead>\n",
       "    <tr style=\"text-align: right;\">\n",
       "      <th></th>\n",
       "      <th>country_name</th>\n",
       "      <th>country_code</th>\n",
       "      <th>region</th>\n",
       "      <th>income_group</th>\n",
       "      <th>year</th>\n",
       "      <th>population</th>\n",
       "    </tr>\n",
       "  </thead>\n",
       "  <tbody>\n",
       "    <tr>\n",
       "      <th>0</th>\n",
       "      <td>Aruba</td>\n",
       "      <td>ABW</td>\n",
       "      <td>Sin region</td>\n",
       "      <td>Ingreso alto</td>\n",
       "      <td>1960</td>\n",
       "      <td>54608.0</td>\n",
       "    </tr>\n",
       "    <tr>\n",
       "      <th>264</th>\n",
       "      <td>Aruba</td>\n",
       "      <td>ABW</td>\n",
       "      <td>Sin region</td>\n",
       "      <td>Ingreso alto</td>\n",
       "      <td>1961</td>\n",
       "      <td>55811.0</td>\n",
       "    </tr>\n",
       "    <tr>\n",
       "      <th>528</th>\n",
       "      <td>Aruba</td>\n",
       "      <td>ABW</td>\n",
       "      <td>Sin region</td>\n",
       "      <td>Ingreso alto</td>\n",
       "      <td>1962</td>\n",
       "      <td>56682.0</td>\n",
       "    </tr>\n",
       "    <tr>\n",
       "      <th>792</th>\n",
       "      <td>Aruba</td>\n",
       "      <td>ABW</td>\n",
       "      <td>Sin region</td>\n",
       "      <td>Ingreso alto</td>\n",
       "      <td>1963</td>\n",
       "      <td>57475.0</td>\n",
       "    </tr>\n",
       "    <tr>\n",
       "      <th>1056</th>\n",
       "      <td>Aruba</td>\n",
       "      <td>ABW</td>\n",
       "      <td>Sin region</td>\n",
       "      <td>Ingreso alto</td>\n",
       "      <td>1964</td>\n",
       "      <td>58178.0</td>\n",
       "    </tr>\n",
       "  </tbody>\n",
       "</table>\n",
       "</div>"
      ],
      "text/plain": [
       "     country_name country_code      region  income_group  year  population\n",
       "0           Aruba          ABW  Sin region  Ingreso alto  1960     54608.0\n",
       "264         Aruba          ABW  Sin region  Ingreso alto  1961     55811.0\n",
       "528         Aruba          ABW  Sin region  Ingreso alto  1962     56682.0\n",
       "792         Aruba          ABW  Sin region  Ingreso alto  1963     57475.0\n",
       "1056        Aruba          ABW  Sin region  Ingreso alto  1964     58178.0"
      ]
     },
     "execution_count": 60,
     "metadata": {},
     "output_type": "execute_result"
    }
   ],
   "source": [
    "df_w_popu.head()"
   ]
  },
  {
   "cell_type": "markdown",
   "id": "98330d3a-26cc-4d84-b57d-6afb4094113a",
   "metadata": {},
   "source": [
    "## Cálculo del cambio procentual de la población por país"
   ]
  },
  {
   "cell_type": "code",
   "execution_count": 61,
   "id": "db70aa27-755a-4f49-8eeb-728a7e8d658a",
   "metadata": {},
   "outputs": [],
   "source": [
    "df_w_popu['rate_pop'] = df_w_popu.groupby(['country_code'],group_keys=False)['population'].pct_change()*100"
   ]
  },
  {
   "cell_type": "code",
   "execution_count": 62,
   "id": "c3a309f8-1101-4c52-b84c-03cf97a624e3",
   "metadata": {},
   "outputs": [
    {
     "data": {
      "text/html": [
       "<div>\n",
       "<style scoped>\n",
       "    .dataframe tbody tr th:only-of-type {\n",
       "        vertical-align: middle;\n",
       "    }\n",
       "\n",
       "    .dataframe tbody tr th {\n",
       "        vertical-align: top;\n",
       "    }\n",
       "\n",
       "    .dataframe thead th {\n",
       "        text-align: right;\n",
       "    }\n",
       "</style>\n",
       "<table border=\"1\" class=\"dataframe\">\n",
       "  <thead>\n",
       "    <tr style=\"text-align: right;\">\n",
       "      <th></th>\n",
       "      <th>country_name</th>\n",
       "      <th>country_code</th>\n",
       "      <th>region</th>\n",
       "      <th>income_group</th>\n",
       "      <th>year</th>\n",
       "      <th>population</th>\n",
       "      <th>rate_pop</th>\n",
       "    </tr>\n",
       "  </thead>\n",
       "  <tbody>\n",
       "    <tr>\n",
       "      <th>0</th>\n",
       "      <td>Aruba</td>\n",
       "      <td>ABW</td>\n",
       "      <td>Sin region</td>\n",
       "      <td>Ingreso alto</td>\n",
       "      <td>1960</td>\n",
       "      <td>54608.0</td>\n",
       "      <td>NaN</td>\n",
       "    </tr>\n",
       "    <tr>\n",
       "      <th>264</th>\n",
       "      <td>Aruba</td>\n",
       "      <td>ABW</td>\n",
       "      <td>Sin region</td>\n",
       "      <td>Ingreso alto</td>\n",
       "      <td>1961</td>\n",
       "      <td>55811.0</td>\n",
       "      <td>2.202974</td>\n",
       "    </tr>\n",
       "    <tr>\n",
       "      <th>528</th>\n",
       "      <td>Aruba</td>\n",
       "      <td>ABW</td>\n",
       "      <td>Sin region</td>\n",
       "      <td>Ingreso alto</td>\n",
       "      <td>1962</td>\n",
       "      <td>56682.0</td>\n",
       "      <td>1.560624</td>\n",
       "    </tr>\n",
       "    <tr>\n",
       "      <th>792</th>\n",
       "      <td>Aruba</td>\n",
       "      <td>ABW</td>\n",
       "      <td>Sin region</td>\n",
       "      <td>Ingreso alto</td>\n",
       "      <td>1963</td>\n",
       "      <td>57475.0</td>\n",
       "      <td>1.399033</td>\n",
       "    </tr>\n",
       "    <tr>\n",
       "      <th>1056</th>\n",
       "      <td>Aruba</td>\n",
       "      <td>ABW</td>\n",
       "      <td>Sin region</td>\n",
       "      <td>Ingreso alto</td>\n",
       "      <td>1964</td>\n",
       "      <td>58178.0</td>\n",
       "      <td>1.223140</td>\n",
       "    </tr>\n",
       "  </tbody>\n",
       "</table>\n",
       "</div>"
      ],
      "text/plain": [
       "     country_name country_code      region  income_group  year  population  \\\n",
       "0           Aruba          ABW  Sin region  Ingreso alto  1960     54608.0   \n",
       "264         Aruba          ABW  Sin region  Ingreso alto  1961     55811.0   \n",
       "528         Aruba          ABW  Sin region  Ingreso alto  1962     56682.0   \n",
       "792         Aruba          ABW  Sin region  Ingreso alto  1963     57475.0   \n",
       "1056        Aruba          ABW  Sin region  Ingreso alto  1964     58178.0   \n",
       "\n",
       "      rate_pop  \n",
       "0          NaN  \n",
       "264   2.202974  \n",
       "528   1.560624  \n",
       "792   1.399033  \n",
       "1056  1.223140  "
      ]
     },
     "execution_count": 62,
     "metadata": {},
     "output_type": "execute_result"
    }
   ],
   "source": [
    "df_w_popu.head()"
   ]
  },
  {
   "cell_type": "markdown",
   "id": "71cf799d-be78-4752-bbe5-00915ad499db",
   "metadata": {},
   "source": [
    "## Convertir la ponlación a millones y redondear"
   ]
  },
  {
   "cell_type": "code",
   "execution_count": 63,
   "id": "7a62a6af-4fe3-4233-a09b-3c5adea8fbfe",
   "metadata": {},
   "outputs": [],
   "source": [
    "df_w_popu['pop_millon'] = df_w_popu['population'] / 1000000"
   ]
  },
  {
   "cell_type": "code",
   "execution_count": 64,
   "id": "b3b423f1-3fa2-4bca-ac57-9e002af59483",
   "metadata": {},
   "outputs": [
    {
     "data": {
      "text/html": [
       "<div>\n",
       "<style scoped>\n",
       "    .dataframe tbody tr th:only-of-type {\n",
       "        vertical-align: middle;\n",
       "    }\n",
       "\n",
       "    .dataframe tbody tr th {\n",
       "        vertical-align: top;\n",
       "    }\n",
       "\n",
       "    .dataframe thead th {\n",
       "        text-align: right;\n",
       "    }\n",
       "</style>\n",
       "<table border=\"1\" class=\"dataframe\">\n",
       "  <thead>\n",
       "    <tr style=\"text-align: right;\">\n",
       "      <th></th>\n",
       "      <th>country_name</th>\n",
       "      <th>country_code</th>\n",
       "      <th>region</th>\n",
       "      <th>income_group</th>\n",
       "      <th>year</th>\n",
       "      <th>population</th>\n",
       "      <th>rate_pop</th>\n",
       "      <th>pop_millon</th>\n",
       "    </tr>\n",
       "  </thead>\n",
       "  <tbody>\n",
       "    <tr>\n",
       "      <th>0</th>\n",
       "      <td>Aruba</td>\n",
       "      <td>ABW</td>\n",
       "      <td>Sin region</td>\n",
       "      <td>Ingreso alto</td>\n",
       "      <td>1960</td>\n",
       "      <td>54608.0</td>\n",
       "      <td>NaN</td>\n",
       "      <td>0.054608</td>\n",
       "    </tr>\n",
       "    <tr>\n",
       "      <th>264</th>\n",
       "      <td>Aruba</td>\n",
       "      <td>ABW</td>\n",
       "      <td>Sin region</td>\n",
       "      <td>Ingreso alto</td>\n",
       "      <td>1961</td>\n",
       "      <td>55811.0</td>\n",
       "      <td>2.202974</td>\n",
       "      <td>0.055811</td>\n",
       "    </tr>\n",
       "    <tr>\n",
       "      <th>528</th>\n",
       "      <td>Aruba</td>\n",
       "      <td>ABW</td>\n",
       "      <td>Sin region</td>\n",
       "      <td>Ingreso alto</td>\n",
       "      <td>1962</td>\n",
       "      <td>56682.0</td>\n",
       "      <td>1.560624</td>\n",
       "      <td>0.056682</td>\n",
       "    </tr>\n",
       "    <tr>\n",
       "      <th>792</th>\n",
       "      <td>Aruba</td>\n",
       "      <td>ABW</td>\n",
       "      <td>Sin region</td>\n",
       "      <td>Ingreso alto</td>\n",
       "      <td>1963</td>\n",
       "      <td>57475.0</td>\n",
       "      <td>1.399033</td>\n",
       "      <td>0.057475</td>\n",
       "    </tr>\n",
       "    <tr>\n",
       "      <th>1056</th>\n",
       "      <td>Aruba</td>\n",
       "      <td>ABW</td>\n",
       "      <td>Sin region</td>\n",
       "      <td>Ingreso alto</td>\n",
       "      <td>1964</td>\n",
       "      <td>58178.0</td>\n",
       "      <td>1.223140</td>\n",
       "      <td>0.058178</td>\n",
       "    </tr>\n",
       "  </tbody>\n",
       "</table>\n",
       "</div>"
      ],
      "text/plain": [
       "     country_name country_code      region  income_group  year  population  \\\n",
       "0           Aruba          ABW  Sin region  Ingreso alto  1960     54608.0   \n",
       "264         Aruba          ABW  Sin region  Ingreso alto  1961     55811.0   \n",
       "528         Aruba          ABW  Sin region  Ingreso alto  1962     56682.0   \n",
       "792         Aruba          ABW  Sin region  Ingreso alto  1963     57475.0   \n",
       "1056        Aruba          ABW  Sin region  Ingreso alto  1964     58178.0   \n",
       "\n",
       "      rate_pop  pop_millon  \n",
       "0          NaN    0.054608  \n",
       "264   2.202974    0.055811  \n",
       "528   1.560624    0.056682  \n",
       "792   1.399033    0.057475  \n",
       "1056  1.223140    0.058178  "
      ]
     },
     "execution_count": 64,
     "metadata": {},
     "output_type": "execute_result"
    }
   ],
   "source": [
    "df_w_popu.head()"
   ]
  },
  {
   "cell_type": "code",
   "execution_count": 65,
   "id": "9e5041c7-ae89-41cf-a7e6-dd8454b7d8a5",
   "metadata": {},
   "outputs": [],
   "source": [
    "df_w_popu['pop_millon'] = df_w_popu['pop_millon'].round(1)\n",
    "df_w_popu['rate_pop'] = df_w_popu['rate_pop'].round(1)"
   ]
  },
  {
   "cell_type": "code",
   "execution_count": 66,
   "id": "8266f85c-2c00-41ea-852a-04fdbaaa5b59",
   "metadata": {},
   "outputs": [
    {
     "data": {
      "text/html": [
       "<div>\n",
       "<style scoped>\n",
       "    .dataframe tbody tr th:only-of-type {\n",
       "        vertical-align: middle;\n",
       "    }\n",
       "\n",
       "    .dataframe tbody tr th {\n",
       "        vertical-align: top;\n",
       "    }\n",
       "\n",
       "    .dataframe thead th {\n",
       "        text-align: right;\n",
       "    }\n",
       "</style>\n",
       "<table border=\"1\" class=\"dataframe\">\n",
       "  <thead>\n",
       "    <tr style=\"text-align: right;\">\n",
       "      <th></th>\n",
       "      <th>country_name</th>\n",
       "      <th>country_code</th>\n",
       "      <th>region</th>\n",
       "      <th>income_group</th>\n",
       "      <th>year</th>\n",
       "      <th>population</th>\n",
       "      <th>rate_pop</th>\n",
       "      <th>pop_millon</th>\n",
       "    </tr>\n",
       "  </thead>\n",
       "  <tbody>\n",
       "    <tr>\n",
       "      <th>0</th>\n",
       "      <td>Aruba</td>\n",
       "      <td>ABW</td>\n",
       "      <td>Sin region</td>\n",
       "      <td>Ingreso alto</td>\n",
       "      <td>1960</td>\n",
       "      <td>54608.0</td>\n",
       "      <td>NaN</td>\n",
       "      <td>0.1</td>\n",
       "    </tr>\n",
       "    <tr>\n",
       "      <th>264</th>\n",
       "      <td>Aruba</td>\n",
       "      <td>ABW</td>\n",
       "      <td>Sin region</td>\n",
       "      <td>Ingreso alto</td>\n",
       "      <td>1961</td>\n",
       "      <td>55811.0</td>\n",
       "      <td>2.2</td>\n",
       "      <td>0.1</td>\n",
       "    </tr>\n",
       "    <tr>\n",
       "      <th>528</th>\n",
       "      <td>Aruba</td>\n",
       "      <td>ABW</td>\n",
       "      <td>Sin region</td>\n",
       "      <td>Ingreso alto</td>\n",
       "      <td>1962</td>\n",
       "      <td>56682.0</td>\n",
       "      <td>1.6</td>\n",
       "      <td>0.1</td>\n",
       "    </tr>\n",
       "    <tr>\n",
       "      <th>792</th>\n",
       "      <td>Aruba</td>\n",
       "      <td>ABW</td>\n",
       "      <td>Sin region</td>\n",
       "      <td>Ingreso alto</td>\n",
       "      <td>1963</td>\n",
       "      <td>57475.0</td>\n",
       "      <td>1.4</td>\n",
       "      <td>0.1</td>\n",
       "    </tr>\n",
       "    <tr>\n",
       "      <th>1056</th>\n",
       "      <td>Aruba</td>\n",
       "      <td>ABW</td>\n",
       "      <td>Sin region</td>\n",
       "      <td>Ingreso alto</td>\n",
       "      <td>1964</td>\n",
       "      <td>58178.0</td>\n",
       "      <td>1.2</td>\n",
       "      <td>0.1</td>\n",
       "    </tr>\n",
       "  </tbody>\n",
       "</table>\n",
       "</div>"
      ],
      "text/plain": [
       "     country_name country_code      region  income_group  year  population  \\\n",
       "0           Aruba          ABW  Sin region  Ingreso alto  1960     54608.0   \n",
       "264         Aruba          ABW  Sin region  Ingreso alto  1961     55811.0   \n",
       "528         Aruba          ABW  Sin region  Ingreso alto  1962     56682.0   \n",
       "792         Aruba          ABW  Sin region  Ingreso alto  1963     57475.0   \n",
       "1056        Aruba          ABW  Sin region  Ingreso alto  1964     58178.0   \n",
       "\n",
       "      rate_pop  pop_millon  \n",
       "0          NaN         0.1  \n",
       "264        2.2         0.1  \n",
       "528        1.6         0.1  \n",
       "792        1.4         0.1  \n",
       "1056       1.2         0.1  "
      ]
     },
     "execution_count": 66,
     "metadata": {},
     "output_type": "execute_result"
    }
   ],
   "source": [
    "df_w_popu.head()"
   ]
  },
  {
   "cell_type": "code",
   "execution_count": 67,
   "id": "656a4ee3-eddc-4437-beba-7311523978da",
   "metadata": {},
   "outputs": [
    {
     "data": {
      "text/html": [
       "<div>\n",
       "<style scoped>\n",
       "    .dataframe tbody tr th:only-of-type {\n",
       "        vertical-align: middle;\n",
       "    }\n",
       "\n",
       "    .dataframe tbody tr th {\n",
       "        vertical-align: top;\n",
       "    }\n",
       "\n",
       "    .dataframe thead th {\n",
       "        text-align: right;\n",
       "    }\n",
       "</style>\n",
       "<table border=\"1\" class=\"dataframe\">\n",
       "  <thead>\n",
       "    <tr style=\"text-align: right;\">\n",
       "      <th></th>\n",
       "      <th>name</th>\n",
       "      <th>alpha-2</th>\n",
       "      <th>alpha-3</th>\n",
       "      <th>country-code</th>\n",
       "      <th>iso_3166-2</th>\n",
       "      <th>region</th>\n",
       "      <th>sub-region</th>\n",
       "      <th>intermediate-region</th>\n",
       "      <th>region-code</th>\n",
       "      <th>sub-region-code</th>\n",
       "      <th>intermediate-region-code</th>\n",
       "    </tr>\n",
       "  </thead>\n",
       "  <tbody>\n",
       "    <tr>\n",
       "      <th>0</th>\n",
       "      <td>Afghanistan</td>\n",
       "      <td>AF</td>\n",
       "      <td>AFG</td>\n",
       "      <td>4</td>\n",
       "      <td>ISO 3166-2:AF</td>\n",
       "      <td>Asia</td>\n",
       "      <td>Southern Asia</td>\n",
       "      <td>NaN</td>\n",
       "      <td>142.0</td>\n",
       "      <td>34.0</td>\n",
       "      <td>NaN</td>\n",
       "    </tr>\n",
       "    <tr>\n",
       "      <th>1</th>\n",
       "      <td>Åland Islands</td>\n",
       "      <td>AX</td>\n",
       "      <td>ALA</td>\n",
       "      <td>248</td>\n",
       "      <td>ISO 3166-2:AX</td>\n",
       "      <td>Europe</td>\n",
       "      <td>Northern Europe</td>\n",
       "      <td>NaN</td>\n",
       "      <td>150.0</td>\n",
       "      <td>154.0</td>\n",
       "      <td>NaN</td>\n",
       "    </tr>\n",
       "    <tr>\n",
       "      <th>2</th>\n",
       "      <td>Albania</td>\n",
       "      <td>AL</td>\n",
       "      <td>ALB</td>\n",
       "      <td>8</td>\n",
       "      <td>ISO 3166-2:AL</td>\n",
       "      <td>Europe</td>\n",
       "      <td>Southern Europe</td>\n",
       "      <td>NaN</td>\n",
       "      <td>150.0</td>\n",
       "      <td>39.0</td>\n",
       "      <td>NaN</td>\n",
       "    </tr>\n",
       "    <tr>\n",
       "      <th>3</th>\n",
       "      <td>Algeria</td>\n",
       "      <td>DZ</td>\n",
       "      <td>DZA</td>\n",
       "      <td>12</td>\n",
       "      <td>ISO 3166-2:DZ</td>\n",
       "      <td>Africa</td>\n",
       "      <td>Northern Africa</td>\n",
       "      <td>NaN</td>\n",
       "      <td>2.0</td>\n",
       "      <td>15.0</td>\n",
       "      <td>NaN</td>\n",
       "    </tr>\n",
       "    <tr>\n",
       "      <th>4</th>\n",
       "      <td>American Samoa</td>\n",
       "      <td>AS</td>\n",
       "      <td>ASM</td>\n",
       "      <td>16</td>\n",
       "      <td>ISO 3166-2:AS</td>\n",
       "      <td>Oceania</td>\n",
       "      <td>Polynesia</td>\n",
       "      <td>NaN</td>\n",
       "      <td>9.0</td>\n",
       "      <td>61.0</td>\n",
       "      <td>NaN</td>\n",
       "    </tr>\n",
       "  </tbody>\n",
       "</table>\n",
       "</div>"
      ],
      "text/plain": [
       "             name alpha-2 alpha-3  country-code     iso_3166-2   region  \\\n",
       "0     Afghanistan      AF     AFG             4  ISO 3166-2:AF     Asia   \n",
       "1   Åland Islands      AX     ALA           248  ISO 3166-2:AX   Europe   \n",
       "2         Albania      AL     ALB             8  ISO 3166-2:AL   Europe   \n",
       "3         Algeria      DZ     DZA            12  ISO 3166-2:DZ   Africa   \n",
       "4  American Samoa      AS     ASM            16  ISO 3166-2:AS  Oceania   \n",
       "\n",
       "        sub-region intermediate-region  region-code  sub-region-code  \\\n",
       "0    Southern Asia                 NaN        142.0             34.0   \n",
       "1  Northern Europe                 NaN        150.0            154.0   \n",
       "2  Southern Europe                 NaN        150.0             39.0   \n",
       "3  Northern Africa                 NaN          2.0             15.0   \n",
       "4        Polynesia                 NaN          9.0             61.0   \n",
       "\n",
       "   intermediate-region-code  \n",
       "0                       NaN  \n",
       "1                       NaN  \n",
       "2                       NaN  \n",
       "3                       NaN  \n",
       "4                       NaN  "
      ]
     },
     "execution_count": 67,
     "metadata": {},
     "output_type": "execute_result"
    }
   ],
   "source": [
    " df_codes.head()"
   ]
  },
  {
   "cell_type": "code",
   "execution_count": 68,
   "id": "8c7fcdda-f1b2-4fe8-a11e-26ecbb24360f",
   "metadata": {},
   "outputs": [],
   "source": [
    "df_w_c_popu = df_w_popu.merge(\n",
    "    df_codes,\n",
    "    left_on = 'country_code',\n",
    "    right_on = 'alpha-3',\n",
    "    how='inner'\n",
    ")"
   ]
  },
  {
   "cell_type": "code",
   "execution_count": 69,
   "id": "a9473944-6995-467d-a093-3e804ab074e6",
   "metadata": {},
   "outputs": [
    {
     "data": {
      "text/html": [
       "<div>\n",
       "<style scoped>\n",
       "    .dataframe tbody tr th:only-of-type {\n",
       "        vertical-align: middle;\n",
       "    }\n",
       "\n",
       "    .dataframe tbody tr th {\n",
       "        vertical-align: top;\n",
       "    }\n",
       "\n",
       "    .dataframe thead th {\n",
       "        text-align: right;\n",
       "    }\n",
       "</style>\n",
       "<table border=\"1\" class=\"dataframe\">\n",
       "  <thead>\n",
       "    <tr style=\"text-align: right;\">\n",
       "      <th></th>\n",
       "      <th>country_name</th>\n",
       "      <th>country_code</th>\n",
       "      <th>region_x</th>\n",
       "      <th>income_group</th>\n",
       "      <th>year</th>\n",
       "      <th>population</th>\n",
       "      <th>rate_pop</th>\n",
       "      <th>pop_millon</th>\n",
       "      <th>name</th>\n",
       "      <th>alpha-2</th>\n",
       "      <th>alpha-3</th>\n",
       "      <th>country-code</th>\n",
       "      <th>iso_3166-2</th>\n",
       "      <th>region_y</th>\n",
       "      <th>sub-region</th>\n",
       "      <th>intermediate-region</th>\n",
       "      <th>region-code</th>\n",
       "      <th>sub-region-code</th>\n",
       "      <th>intermediate-region-code</th>\n",
       "    </tr>\n",
       "  </thead>\n",
       "  <tbody>\n",
       "    <tr>\n",
       "      <th>0</th>\n",
       "      <td>Aruba</td>\n",
       "      <td>ABW</td>\n",
       "      <td>Sin region</td>\n",
       "      <td>Ingreso alto</td>\n",
       "      <td>1960</td>\n",
       "      <td>54608.0</td>\n",
       "      <td>NaN</td>\n",
       "      <td>0.1</td>\n",
       "      <td>Aruba</td>\n",
       "      <td>AW</td>\n",
       "      <td>ABW</td>\n",
       "      <td>533</td>\n",
       "      <td>ISO 3166-2:AW</td>\n",
       "      <td>Americas</td>\n",
       "      <td>Latin America and the Caribbean</td>\n",
       "      <td>Caribbean</td>\n",
       "      <td>19.0</td>\n",
       "      <td>419.0</td>\n",
       "      <td>29.0</td>\n",
       "    </tr>\n",
       "    <tr>\n",
       "      <th>1</th>\n",
       "      <td>Aruba</td>\n",
       "      <td>ABW</td>\n",
       "      <td>Sin region</td>\n",
       "      <td>Ingreso alto</td>\n",
       "      <td>1961</td>\n",
       "      <td>55811.0</td>\n",
       "      <td>2.2</td>\n",
       "      <td>0.1</td>\n",
       "      <td>Aruba</td>\n",
       "      <td>AW</td>\n",
       "      <td>ABW</td>\n",
       "      <td>533</td>\n",
       "      <td>ISO 3166-2:AW</td>\n",
       "      <td>Americas</td>\n",
       "      <td>Latin America and the Caribbean</td>\n",
       "      <td>Caribbean</td>\n",
       "      <td>19.0</td>\n",
       "      <td>419.0</td>\n",
       "      <td>29.0</td>\n",
       "    </tr>\n",
       "    <tr>\n",
       "      <th>2</th>\n",
       "      <td>Aruba</td>\n",
       "      <td>ABW</td>\n",
       "      <td>Sin region</td>\n",
       "      <td>Ingreso alto</td>\n",
       "      <td>1962</td>\n",
       "      <td>56682.0</td>\n",
       "      <td>1.6</td>\n",
       "      <td>0.1</td>\n",
       "      <td>Aruba</td>\n",
       "      <td>AW</td>\n",
       "      <td>ABW</td>\n",
       "      <td>533</td>\n",
       "      <td>ISO 3166-2:AW</td>\n",
       "      <td>Americas</td>\n",
       "      <td>Latin America and the Caribbean</td>\n",
       "      <td>Caribbean</td>\n",
       "      <td>19.0</td>\n",
       "      <td>419.0</td>\n",
       "      <td>29.0</td>\n",
       "    </tr>\n",
       "    <tr>\n",
       "      <th>3</th>\n",
       "      <td>Aruba</td>\n",
       "      <td>ABW</td>\n",
       "      <td>Sin region</td>\n",
       "      <td>Ingreso alto</td>\n",
       "      <td>1963</td>\n",
       "      <td>57475.0</td>\n",
       "      <td>1.4</td>\n",
       "      <td>0.1</td>\n",
       "      <td>Aruba</td>\n",
       "      <td>AW</td>\n",
       "      <td>ABW</td>\n",
       "      <td>533</td>\n",
       "      <td>ISO 3166-2:AW</td>\n",
       "      <td>Americas</td>\n",
       "      <td>Latin America and the Caribbean</td>\n",
       "      <td>Caribbean</td>\n",
       "      <td>19.0</td>\n",
       "      <td>419.0</td>\n",
       "      <td>29.0</td>\n",
       "    </tr>\n",
       "    <tr>\n",
       "      <th>4</th>\n",
       "      <td>Aruba</td>\n",
       "      <td>ABW</td>\n",
       "      <td>Sin region</td>\n",
       "      <td>Ingreso alto</td>\n",
       "      <td>1964</td>\n",
       "      <td>58178.0</td>\n",
       "      <td>1.2</td>\n",
       "      <td>0.1</td>\n",
       "      <td>Aruba</td>\n",
       "      <td>AW</td>\n",
       "      <td>ABW</td>\n",
       "      <td>533</td>\n",
       "      <td>ISO 3166-2:AW</td>\n",
       "      <td>Americas</td>\n",
       "      <td>Latin America and the Caribbean</td>\n",
       "      <td>Caribbean</td>\n",
       "      <td>19.0</td>\n",
       "      <td>419.0</td>\n",
       "      <td>29.0</td>\n",
       "    </tr>\n",
       "  </tbody>\n",
       "</table>\n",
       "</div>"
      ],
      "text/plain": [
       "  country_name country_code    region_x  income_group  year  population  \\\n",
       "0        Aruba          ABW  Sin region  Ingreso alto  1960     54608.0   \n",
       "1        Aruba          ABW  Sin region  Ingreso alto  1961     55811.0   \n",
       "2        Aruba          ABW  Sin region  Ingreso alto  1962     56682.0   \n",
       "3        Aruba          ABW  Sin region  Ingreso alto  1963     57475.0   \n",
       "4        Aruba          ABW  Sin region  Ingreso alto  1964     58178.0   \n",
       "\n",
       "   rate_pop  pop_millon   name alpha-2 alpha-3  country-code     iso_3166-2  \\\n",
       "0       NaN         0.1  Aruba      AW     ABW           533  ISO 3166-2:AW   \n",
       "1       2.2         0.1  Aruba      AW     ABW           533  ISO 3166-2:AW   \n",
       "2       1.6         0.1  Aruba      AW     ABW           533  ISO 3166-2:AW   \n",
       "3       1.4         0.1  Aruba      AW     ABW           533  ISO 3166-2:AW   \n",
       "4       1.2         0.1  Aruba      AW     ABW           533  ISO 3166-2:AW   \n",
       "\n",
       "   region_y                       sub-region intermediate-region  region-code  \\\n",
       "0  Americas  Latin America and the Caribbean           Caribbean         19.0   \n",
       "1  Americas  Latin America and the Caribbean           Caribbean         19.0   \n",
       "2  Americas  Latin America and the Caribbean           Caribbean         19.0   \n",
       "3  Americas  Latin America and the Caribbean           Caribbean         19.0   \n",
       "4  Americas  Latin America and the Caribbean           Caribbean         19.0   \n",
       "\n",
       "   sub-region-code  intermediate-region-code  \n",
       "0            419.0                      29.0  \n",
       "1            419.0                      29.0  \n",
       "2            419.0                      29.0  \n",
       "3            419.0                      29.0  \n",
       "4            419.0                      29.0  "
      ]
     },
     "execution_count": 69,
     "metadata": {},
     "output_type": "execute_result"
    }
   ],
   "source": [
    "df_w_c_popu.head()"
   ]
  },
  {
   "cell_type": "code",
   "execution_count": 70,
   "id": "b1e0fecb-41e4-4dca-a320-60aa56d7458d",
   "metadata": {},
   "outputs": [
    {
     "name": "stdout",
     "output_type": "stream",
     "text": [
      "<class 'pandas.core.frame.DataFrame'>\n",
      "RangeIndex: 13300 entries, 0 to 13299\n",
      "Data columns (total 19 columns):\n",
      " #   Column                    Non-Null Count  Dtype  \n",
      "---  ------                    --------------  -----  \n",
      " 0   country_name              13300 non-null  object \n",
      " 1   country_code              13300 non-null  object \n",
      " 2   region_x                  13300 non-null  object \n",
      " 3   income_group              13300 non-null  object \n",
      " 4   year                      13300 non-null  object \n",
      " 5   population                13300 non-null  float64\n",
      " 6   rate_pop                  13085 non-null  float64\n",
      " 7   pop_millon                13300 non-null  float64\n",
      " 8   name                      13300 non-null  object \n",
      " 9   alpha-2                   13238 non-null  object \n",
      " 10  alpha-3                   13300 non-null  object \n",
      " 11  country-code              13300 non-null  int64  \n",
      " 12  iso_3166-2                13300 non-null  object \n",
      " 13  region_y                  13300 non-null  object \n",
      " 14  sub-region                13300 non-null  object \n",
      " 15  intermediate-region       5580 non-null   object \n",
      " 16  region-code               13300 non-null  float64\n",
      " 17  sub-region-code           13300 non-null  float64\n",
      " 18  intermediate-region-code  5580 non-null   float64\n",
      "dtypes: float64(6), int64(1), object(12)\n",
      "memory usage: 1.9+ MB\n"
     ]
    }
   ],
   "source": [
    "df_w_c_popu.info()"
   ]
  },
  {
   "cell_type": "code",
   "execution_count": 71,
   "id": "0b8d0af1-48f7-40b7-b363-c0031dfbcdde",
   "metadata": {},
   "outputs": [],
   "source": [
    "df_w_c_popu = df_w_c_popu[df_w_c_popu['country_code'].isin(df_w_c_popu['country_code'])]"
   ]
  },
  {
   "cell_type": "code",
   "execution_count": 72,
   "id": "eab96178-475c-476f-b22c-86ff5bb468be",
   "metadata": {},
   "outputs": [],
   "source": [
    "df_w_c_popu = df_w_c_popu[['country_name','country_code','region_y','sub-region','income_group','year','population','rate_pop','pop_millon']]"
   ]
  },
  {
   "cell_type": "code",
   "execution_count": 73,
   "id": "c90fbdc8-e439-4b28-802a-9c0bc56b7c57",
   "metadata": {},
   "outputs": [
    {
     "data": {
      "text/plain": [
       "Index(['country_name', 'country_code', 'region_y', 'sub-region',\n",
       "       'income_group', 'year', 'population', 'rate_pop', 'pop_millon'],\n",
       "      dtype='object')"
      ]
     },
     "execution_count": 73,
     "metadata": {},
     "output_type": "execute_result"
    }
   ],
   "source": [
    "df_w_c_popu.columns"
   ]
  },
  {
   "cell_type": "code",
   "execution_count": 74,
   "id": "451f44ed-9223-4c01-9745-74be0ee867c8",
   "metadata": {},
   "outputs": [],
   "source": [
    "df_w_c_popu.columns = ['country_name','country_code','region_y','sub_region','income_group','year','population','rate_pop','pop_millon']"
   ]
  },
  {
   "cell_type": "markdown",
   "id": "878b01af-2930-4ff6-9a25-4ace1babdeb0",
   "metadata": {},
   "source": [
    "### Evolucion de la poblacion mundial en todos años"
   ]
  },
  {
   "cell_type": "code",
   "execution_count": 75,
   "id": "eeda5b5d-45e6-47a5-a5bd-b1647857c286",
   "metadata": {},
   "outputs": [],
   "source": [
    "df_world = df_w_popu[df_w_popu['country_name']=='Mundo']"
   ]
  },
  {
   "cell_type": "code",
   "execution_count": 76,
   "id": "54094742-9582-4066-a68b-01b04df70550",
   "metadata": {},
   "outputs": [
    {
     "name": "stdout",
     "output_type": "stream",
     "text": [
      "(62, 8) \n",
      " ***************** \n",
      "     country_name country_code      region income_group  year    population  \\\n",
      "257        Mundo          WLD  Sin region    Agregados  1960  3.031565e+09   \n",
      "521        Mundo          WLD  Sin region    Agregados  1961  3.072511e+09   \n",
      "\n",
      "     rate_pop  pop_millon  \n",
      "257       NaN      3031.6  \n",
      "521       1.4      3072.5  \n"
     ]
    }
   ],
   "source": [
    "print(df_world.shape,\"\\n ***************** \\n\",df_world.head(2))"
   ]
  },
  {
   "cell_type": "code",
   "execution_count": 77,
   "id": "06bbe0f7-cedc-460e-8ed0-391ed5051ebf",
   "metadata": {},
   "outputs": [
    {
     "data": {
      "application/vnd.plotly.v1+json": {
       "config": {
        "plotlyServerURL": "https://plot.ly"
       },
       "data": [
        {
         "hovertemplate": "year=%{x}<br>pop_millon=%{marker.color}<extra></extra>",
         "legendgroup": "",
         "marker": {
          "color": {
           "bdata": "ZmZmZmZmL0AzMzMzMzMwQDMzMzMzszBAMzMzMzMzMUAzMzMzM7MxQM3MzMzMTDJAzczMzMzMMkDNzMzMzEwzQGZmZmZm5jNAZmZmZmZmNEBmZmZmZuY0QGZmZmZmZjVAZmZmZmbmNUBmZmZmZmY2QGZmZmZm5jZAZmZmZmZmN0BmZmZmZuY3QGZmZmZmZjhAAAAAAAAAOUCamZmZmZk5QDMzMzMzMzpAzczMzMzMOkBmZmZmZmY7QAAAAAAAADxAMzMzMzOzPEDNzMzMzEw9QAAAAAAAAD5AmpmZmZmZPkDNzMzMzEw/QGZmZmZm5j9AzczMzMxMQEBmZmZmZqZAQDMzMzMz80BAzczMzMxMQUBmZmZmZqZBQAAAAAAAAEJAzczMzMxMQkBmZmZmZqZCQDMzMzMz80JAzczMzMxMQ0CamZmZmZlDQGZmZmZm5kNAAAAAAABAREDNzMzMzIxEQM3MzMzMzERAmpmZmZkZRUBmZmZmZmZFQGZmZmZmpkVAZmZmZmbmRUBmZmZmZiZGQGZmZmZmZkZAZmZmZmamRkBmZmZmZuZGQJqZmZmZGUdAmpmZmZlZR0DNzMzMzIxHQM3MzMzMzEdAMzMzMzMzSEBmZmZmZqZIQJqZmZmZGUlAMzMzMzNzSUAAAAAAAMBJQA==",
           "dtype": "f8"
          },
          "coloraxis": "coloraxis",
          "pattern": {
           "shape": ""
          }
         },
         "name": "",
         "orientation": "v",
         "showlegend": false,
         "textposition": "auto",
         "type": "bar",
         "x": [
          "1960",
          "1961",
          "1962",
          "1963",
          "1964",
          "1965",
          "1966",
          "1967",
          "1968",
          "1969",
          "1970",
          "1971",
          "1972",
          "1973",
          "1974",
          "1975",
          "1976",
          "1977",
          "1978",
          "1979",
          "1980",
          "1981",
          "1982",
          "1983",
          "1984",
          "1985",
          "1986",
          "1987",
          "1988",
          "1989",
          "1990",
          "1991",
          "1992",
          "1993",
          "1994",
          "1995",
          "1996",
          "1997",
          "1998",
          "1999",
          "2000",
          "2001",
          "2002",
          "2003",
          "2004",
          "2005",
          "2006",
          "2007",
          "2008",
          "2009",
          "2010",
          "2011",
          "2012",
          "2013",
          "2014",
          "2015",
          "2016",
          "2017",
          "2018",
          "2019",
          "2020",
          "2021"
         ],
         "xaxis": "x",
         "y": {
          "bdata": "ZmZmZmZmL0AzMzMzMzMwQDMzMzMzszBAMzMzMzMzMUAzMzMzM7MxQM3MzMzMTDJAzczMzMzMMkDNzMzMzEwzQGZmZmZm5jNAZmZmZmZmNEBmZmZmZuY0QGZmZmZmZjVAZmZmZmbmNUBmZmZmZmY2QGZmZmZm5jZAZmZmZmZmN0BmZmZmZuY3QGZmZmZmZjhAAAAAAAAAOUCamZmZmZk5QDMzMzMzMzpAzczMzMzMOkBmZmZmZmY7QAAAAAAAADxAMzMzMzOzPEDNzMzMzEw9QAAAAAAAAD5AmpmZmZmZPkDNzMzMzEw/QGZmZmZm5j9AzczMzMxMQEBmZmZmZqZAQDMzMzMz80BAzczMzMxMQUBmZmZmZqZBQAAAAAAAAEJAzczMzMxMQkBmZmZmZqZCQDMzMzMz80JAzczMzMxMQ0CamZmZmZlDQGZmZmZm5kNAAAAAAABAREDNzMzMzIxEQM3MzMzMzERAmpmZmZkZRUBmZmZmZmZFQGZmZmZmpkVAZmZmZmbmRUBmZmZmZiZGQGZmZmZmZkZAZmZmZmamRkBmZmZmZuZGQJqZmZmZGUdAmpmZmZlZR0DNzMzMzIxHQM3MzMzMzEdAMzMzMzMzSEBmZmZmZqZIQJqZmZmZGUlAMzMzMzNzSUAAAAAAAMBJQA==",
          "dtype": "f8"
         },
         "yaxis": "y"
        }
       ],
       "layout": {
        "barmode": "relative",
        "coloraxis": {
         "colorbar": {
          "title": {
           "text": "pop_millon"
          }
         },
         "colorscale": [
          [
           0,
           "#fcffa4"
          ],
          [
           0.1111111111111111,
           "#f7d13d"
          ],
          [
           0.2222222222222222,
           "#fb9b06"
          ],
          [
           0.3333333333333333,
           "#ed6925"
          ],
          [
           0.4444444444444444,
           "#cf4446"
          ],
          [
           0.5555555555555556,
           "#a52c60"
          ],
          [
           0.6666666666666666,
           "#781c6d"
          ],
          [
           0.7777777777777778,
           "#4a0c6b"
          ],
          [
           0.8888888888888888,
           "#1b0c41"
          ],
          [
           1,
           "#000004"
          ]
         ]
        },
        "legend": {
         "tracegroupgap": 0
        },
        "margin": {
         "t": 60
        },
        "template": {
         "data": {
          "bar": [
           {
            "error_x": {
             "color": "#2a3f5f"
            },
            "error_y": {
             "color": "#2a3f5f"
            },
            "marker": {
             "line": {
              "color": "#E5ECF6",
              "width": 0.5
             },
             "pattern": {
              "fillmode": "overlay",
              "size": 10,
              "solidity": 0.2
             }
            },
            "type": "bar"
           }
          ],
          "barpolar": [
           {
            "marker": {
             "line": {
              "color": "#E5ECF6",
              "width": 0.5
             },
             "pattern": {
              "fillmode": "overlay",
              "size": 10,
              "solidity": 0.2
             }
            },
            "type": "barpolar"
           }
          ],
          "carpet": [
           {
            "aaxis": {
             "endlinecolor": "#2a3f5f",
             "gridcolor": "white",
             "linecolor": "white",
             "minorgridcolor": "white",
             "startlinecolor": "#2a3f5f"
            },
            "baxis": {
             "endlinecolor": "#2a3f5f",
             "gridcolor": "white",
             "linecolor": "white",
             "minorgridcolor": "white",
             "startlinecolor": "#2a3f5f"
            },
            "type": "carpet"
           }
          ],
          "choropleth": [
           {
            "colorbar": {
             "outlinewidth": 0,
             "ticks": ""
            },
            "type": "choropleth"
           }
          ],
          "contour": [
           {
            "colorbar": {
             "outlinewidth": 0,
             "ticks": ""
            },
            "colorscale": [
             [
              0,
              "#0d0887"
             ],
             [
              0.1111111111111111,
              "#46039f"
             ],
             [
              0.2222222222222222,
              "#7201a8"
             ],
             [
              0.3333333333333333,
              "#9c179e"
             ],
             [
              0.4444444444444444,
              "#bd3786"
             ],
             [
              0.5555555555555556,
              "#d8576b"
             ],
             [
              0.6666666666666666,
              "#ed7953"
             ],
             [
              0.7777777777777778,
              "#fb9f3a"
             ],
             [
              0.8888888888888888,
              "#fdca26"
             ],
             [
              1,
              "#f0f921"
             ]
            ],
            "type": "contour"
           }
          ],
          "contourcarpet": [
           {
            "colorbar": {
             "outlinewidth": 0,
             "ticks": ""
            },
            "type": "contourcarpet"
           }
          ],
          "heatmap": [
           {
            "colorbar": {
             "outlinewidth": 0,
             "ticks": ""
            },
            "colorscale": [
             [
              0,
              "#0d0887"
             ],
             [
              0.1111111111111111,
              "#46039f"
             ],
             [
              0.2222222222222222,
              "#7201a8"
             ],
             [
              0.3333333333333333,
              "#9c179e"
             ],
             [
              0.4444444444444444,
              "#bd3786"
             ],
             [
              0.5555555555555556,
              "#d8576b"
             ],
             [
              0.6666666666666666,
              "#ed7953"
             ],
             [
              0.7777777777777778,
              "#fb9f3a"
             ],
             [
              0.8888888888888888,
              "#fdca26"
             ],
             [
              1,
              "#f0f921"
             ]
            ],
            "type": "heatmap"
           }
          ],
          "histogram": [
           {
            "marker": {
             "pattern": {
              "fillmode": "overlay",
              "size": 10,
              "solidity": 0.2
             }
            },
            "type": "histogram"
           }
          ],
          "histogram2d": [
           {
            "colorbar": {
             "outlinewidth": 0,
             "ticks": ""
            },
            "colorscale": [
             [
              0,
              "#0d0887"
             ],
             [
              0.1111111111111111,
              "#46039f"
             ],
             [
              0.2222222222222222,
              "#7201a8"
             ],
             [
              0.3333333333333333,
              "#9c179e"
             ],
             [
              0.4444444444444444,
              "#bd3786"
             ],
             [
              0.5555555555555556,
              "#d8576b"
             ],
             [
              0.6666666666666666,
              "#ed7953"
             ],
             [
              0.7777777777777778,
              "#fb9f3a"
             ],
             [
              0.8888888888888888,
              "#fdca26"
             ],
             [
              1,
              "#f0f921"
             ]
            ],
            "type": "histogram2d"
           }
          ],
          "histogram2dcontour": [
           {
            "colorbar": {
             "outlinewidth": 0,
             "ticks": ""
            },
            "colorscale": [
             [
              0,
              "#0d0887"
             ],
             [
              0.1111111111111111,
              "#46039f"
             ],
             [
              0.2222222222222222,
              "#7201a8"
             ],
             [
              0.3333333333333333,
              "#9c179e"
             ],
             [
              0.4444444444444444,
              "#bd3786"
             ],
             [
              0.5555555555555556,
              "#d8576b"
             ],
             [
              0.6666666666666666,
              "#ed7953"
             ],
             [
              0.7777777777777778,
              "#fb9f3a"
             ],
             [
              0.8888888888888888,
              "#fdca26"
             ],
             [
              1,
              "#f0f921"
             ]
            ],
            "type": "histogram2dcontour"
           }
          ],
          "mesh3d": [
           {
            "colorbar": {
             "outlinewidth": 0,
             "ticks": ""
            },
            "type": "mesh3d"
           }
          ],
          "parcoords": [
           {
            "line": {
             "colorbar": {
              "outlinewidth": 0,
              "ticks": ""
             }
            },
            "type": "parcoords"
           }
          ],
          "pie": [
           {
            "automargin": true,
            "type": "pie"
           }
          ],
          "scatter": [
           {
            "fillpattern": {
             "fillmode": "overlay",
             "size": 10,
             "solidity": 0.2
            },
            "type": "scatter"
           }
          ],
          "scatter3d": [
           {
            "line": {
             "colorbar": {
              "outlinewidth": 0,
              "ticks": ""
             }
            },
            "marker": {
             "colorbar": {
              "outlinewidth": 0,
              "ticks": ""
             }
            },
            "type": "scatter3d"
           }
          ],
          "scattercarpet": [
           {
            "marker": {
             "colorbar": {
              "outlinewidth": 0,
              "ticks": ""
             }
            },
            "type": "scattercarpet"
           }
          ],
          "scattergeo": [
           {
            "marker": {
             "colorbar": {
              "outlinewidth": 0,
              "ticks": ""
             }
            },
            "type": "scattergeo"
           }
          ],
          "scattergl": [
           {
            "marker": {
             "colorbar": {
              "outlinewidth": 0,
              "ticks": ""
             }
            },
            "type": "scattergl"
           }
          ],
          "scattermap": [
           {
            "marker": {
             "colorbar": {
              "outlinewidth": 0,
              "ticks": ""
             }
            },
            "type": "scattermap"
           }
          ],
          "scattermapbox": [
           {
            "marker": {
             "colorbar": {
              "outlinewidth": 0,
              "ticks": ""
             }
            },
            "type": "scattermapbox"
           }
          ],
          "scatterpolar": [
           {
            "marker": {
             "colorbar": {
              "outlinewidth": 0,
              "ticks": ""
             }
            },
            "type": "scatterpolar"
           }
          ],
          "scatterpolargl": [
           {
            "marker": {
             "colorbar": {
              "outlinewidth": 0,
              "ticks": ""
             }
            },
            "type": "scatterpolargl"
           }
          ],
          "scatterternary": [
           {
            "marker": {
             "colorbar": {
              "outlinewidth": 0,
              "ticks": ""
             }
            },
            "type": "scatterternary"
           }
          ],
          "surface": [
           {
            "colorbar": {
             "outlinewidth": 0,
             "ticks": ""
            },
            "colorscale": [
             [
              0,
              "#0d0887"
             ],
             [
              0.1111111111111111,
              "#46039f"
             ],
             [
              0.2222222222222222,
              "#7201a8"
             ],
             [
              0.3333333333333333,
              "#9c179e"
             ],
             [
              0.4444444444444444,
              "#bd3786"
             ],
             [
              0.5555555555555556,
              "#d8576b"
             ],
             [
              0.6666666666666666,
              "#ed7953"
             ],
             [
              0.7777777777777778,
              "#fb9f3a"
             ],
             [
              0.8888888888888888,
              "#fdca26"
             ],
             [
              1,
              "#f0f921"
             ]
            ],
            "type": "surface"
           }
          ],
          "table": [
           {
            "cells": {
             "fill": {
              "color": "#EBF0F8"
             },
             "line": {
              "color": "white"
             }
            },
            "header": {
             "fill": {
              "color": "#C8D4E3"
             },
             "line": {
              "color": "white"
             }
            },
            "type": "table"
           }
          ]
         },
         "layout": {
          "annotationdefaults": {
           "arrowcolor": "#2a3f5f",
           "arrowhead": 0,
           "arrowwidth": 1
          },
          "autotypenumbers": "strict",
          "coloraxis": {
           "colorbar": {
            "outlinewidth": 0,
            "ticks": ""
           }
          },
          "colorscale": {
           "diverging": [
            [
             0,
             "#8e0152"
            ],
            [
             0.1,
             "#c51b7d"
            ],
            [
             0.2,
             "#de77ae"
            ],
            [
             0.3,
             "#f1b6da"
            ],
            [
             0.4,
             "#fde0ef"
            ],
            [
             0.5,
             "#f7f7f7"
            ],
            [
             0.6,
             "#e6f5d0"
            ],
            [
             0.7,
             "#b8e186"
            ],
            [
             0.8,
             "#7fbc41"
            ],
            [
             0.9,
             "#4d9221"
            ],
            [
             1,
             "#276419"
            ]
           ],
           "sequential": [
            [
             0,
             "#0d0887"
            ],
            [
             0.1111111111111111,
             "#46039f"
            ],
            [
             0.2222222222222222,
             "#7201a8"
            ],
            [
             0.3333333333333333,
             "#9c179e"
            ],
            [
             0.4444444444444444,
             "#bd3786"
            ],
            [
             0.5555555555555556,
             "#d8576b"
            ],
            [
             0.6666666666666666,
             "#ed7953"
            ],
            [
             0.7777777777777778,
             "#fb9f3a"
            ],
            [
             0.8888888888888888,
             "#fdca26"
            ],
            [
             1,
             "#f0f921"
            ]
           ],
           "sequentialminus": [
            [
             0,
             "#0d0887"
            ],
            [
             0.1111111111111111,
             "#46039f"
            ],
            [
             0.2222222222222222,
             "#7201a8"
            ],
            [
             0.3333333333333333,
             "#9c179e"
            ],
            [
             0.4444444444444444,
             "#bd3786"
            ],
            [
             0.5555555555555556,
             "#d8576b"
            ],
            [
             0.6666666666666666,
             "#ed7953"
            ],
            [
             0.7777777777777778,
             "#fb9f3a"
            ],
            [
             0.8888888888888888,
             "#fdca26"
            ],
            [
             1,
             "#f0f921"
            ]
           ]
          },
          "colorway": [
           "#636efa",
           "#EF553B",
           "#00cc96",
           "#ab63fa",
           "#FFA15A",
           "#19d3f3",
           "#FF6692",
           "#B6E880",
           "#FF97FF",
           "#FECB52"
          ],
          "font": {
           "color": "#2a3f5f"
          },
          "geo": {
           "bgcolor": "white",
           "lakecolor": "white",
           "landcolor": "#E5ECF6",
           "showlakes": true,
           "showland": true,
           "subunitcolor": "white"
          },
          "hoverlabel": {
           "align": "left"
          },
          "hovermode": "closest",
          "mapbox": {
           "style": "light"
          },
          "paper_bgcolor": "white",
          "plot_bgcolor": "#E5ECF6",
          "polar": {
           "angularaxis": {
            "gridcolor": "white",
            "linecolor": "white",
            "ticks": ""
           },
           "bgcolor": "#E5ECF6",
           "radialaxis": {
            "gridcolor": "white",
            "linecolor": "white",
            "ticks": ""
           }
          },
          "scene": {
           "xaxis": {
            "backgroundcolor": "#E5ECF6",
            "gridcolor": "white",
            "gridwidth": 2,
            "linecolor": "white",
            "showbackground": true,
            "ticks": "",
            "zerolinecolor": "white"
           },
           "yaxis": {
            "backgroundcolor": "#E5ECF6",
            "gridcolor": "white",
            "gridwidth": 2,
            "linecolor": "white",
            "showbackground": true,
            "ticks": "",
            "zerolinecolor": "white"
           },
           "zaxis": {
            "backgroundcolor": "#E5ECF6",
            "gridcolor": "white",
            "gridwidth": 2,
            "linecolor": "white",
            "showbackground": true,
            "ticks": "",
            "zerolinecolor": "white"
           }
          },
          "shapedefaults": {
           "line": {
            "color": "#2a3f5f"
           }
          },
          "ternary": {
           "aaxis": {
            "gridcolor": "white",
            "linecolor": "white",
            "ticks": ""
           },
           "baxis": {
            "gridcolor": "white",
            "linecolor": "white",
            "ticks": ""
           },
           "bgcolor": "#E5ECF6",
           "caxis": {
            "gridcolor": "white",
            "linecolor": "white",
            "ticks": ""
           }
          },
          "title": {
           "x": 0.05
          },
          "xaxis": {
           "automargin": true,
           "gridcolor": "white",
           "linecolor": "white",
           "ticks": "",
           "title": {
            "standoff": 15
           },
           "zerolinecolor": "white",
           "zerolinewidth": 2
          },
          "yaxis": {
           "automargin": true,
           "gridcolor": "white",
           "linecolor": "white",
           "ticks": "",
           "title": {
            "standoff": 15
           },
           "zerolinecolor": "white",
           "zerolinewidth": 2
          }
         }
        },
        "xaxis": {
         "anchor": "y",
         "domain": [
          0,
          1
         ],
         "title": {
          "text": "year"
         }
        },
        "yaxis": {
         "anchor": "x",
         "domain": [
          0,
          1
         ],
         "title": {
          "text": "pop_millon"
         }
        }
       }
      }
     },
     "metadata": {},
     "output_type": "display_data"
    }
   ],
   "source": [
    "fig = px.bar(df_w_popu[df_w_popu['country_name']=='Colombia'],x='year',y='pop_millon',color ='pop_millon',color_continuous_scale='inferno_r')\n",
    "fig.show()"
   ]
  },
  {
   "cell_type": "code",
   "execution_count": null,
   "id": "fad3d073-778d-42c6-9ec5-b99c91a1cab1",
   "metadata": {},
   "outputs": [],
   "source": []
  },
  {
   "cell_type": "code",
   "execution_count": null,
   "id": "06b84dcf-59bc-456f-82bf-ffb0292fe6d0",
   "metadata": {},
   "outputs": [],
   "source": []
  }
 ],
 "metadata": {
  "kernelspec": {
   "display_name": "venv",
   "language": "python",
   "name": "python3"
  },
  "language_info": {
   "codemirror_mode": {
    "name": "ipython",
    "version": 3
   },
   "file_extension": ".py",
   "mimetype": "text/x-python",
   "name": "python",
   "nbconvert_exporter": "python",
   "pygments_lexer": "ipython3",
   "version": "3.13.7"
  }
 },
 "nbformat": 4,
 "nbformat_minor": 5
}
